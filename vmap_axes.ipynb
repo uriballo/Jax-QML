{
 "cells": [
  {
   "cell_type": "markdown",
   "metadata": {},
   "source": [
    "This is an adaptation from: https://wangkuiyi.github.io/vmap.html"
   ]
  },
  {
   "cell_type": "markdown",
   "metadata": {},
   "source": [
    "Consider a function $f$ that processes a vector $x$. We could batch a list of vectors as rows or as columns. In the first case, we should vectorize along the first axis, and in the latter, along the second one:"
   ]
  },
  {
   "cell_type": "code",
   "execution_count": 1,
   "metadata": {},
   "outputs": [
    {
     "name": "stdout",
     "output_type": "stream",
     "text": [
      "Batched vectors: v =\n",
      "[[ 1.6226422   2.0252647 ]\n",
      " [-0.43359444 -0.07861735]\n",
      " [ 0.1760909  -0.97208923]]\n",
      "\n",
      "Vectorization along rows results in:  [ 3.6479068  -0.5122118  -0.79599833]\n",
      "Vectorization along columns results in:  [1.3651385 0.9745582]\n"
     ]
    }
   ],
   "source": [
    "import jax \n",
    "import jax.numpy as jnp\n",
    "\n",
    "def f(x):\n",
    "    return x.sum()\n",
    "key = jax.random.PRNGKey(0)  # Random seed\n",
    "v = jax.random.normal(key, shape=(3, 2))  # Random normal distribution\n",
    "print(f\"Batched vectors: v =\\n{v}\\n\")\n",
    "\n",
    "fv_rows = jax.vmap(f, in_axes=0)\n",
    "fv_cols = jax.vmap(f, in_axes=1)\n",
    "\n",
    "print(\"Vectorization along rows results in: \", fv_rows(v))\n",
    "print(\"Vectorization along columns results in: \", fv_cols(v))"
   ]
  },
  {
   "cell_type": "markdown",
   "metadata": {},
   "source": [
    "JAX's tensors are immutable, therefore when we can a vectorized function we get a *new* tensor. The `out_axes` parameter dictates how to batch the outputs to construct the new tensor. If we want to pack along the rows, we'll set `out_axes=0`, and if we want to do it along the columns we'll use `out_axes=1`:"
   ]
  },
  {
   "cell_type": "code",
   "execution_count": 2,
   "metadata": {},
   "outputs": [
    {
     "name": "stdout",
     "output_type": "stream",
     "text": [
      "Batched vectors: v =\n",
      "[[ 1.6226422   2.0252647 ]\n",
      " [-0.43359444 -0.07861735]\n",
      " [ 0.1760909  -0.97208923]]\n",
      "\n",
      "Packing along rows:\n",
      " [[ 1.6226422   2.0252647 ]\n",
      " [-0.43359444 -0.07861735]\n",
      " [ 0.1760909  -0.97208923]]\n",
      "Packing along columns:\n",
      " [[ 1.6226422  -0.43359444  0.1760909 ]\n",
      " [ 2.0252647  -0.07861735 -0.97208923]]\n"
     ]
    }
   ],
   "source": [
    "def g(x):\n",
    "    return x\n",
    "\n",
    "gv_rows = jax.vmap(g, out_axes = 0)\n",
    "gv_cols = jax.vmap(g, out_axes = 1)\n",
    "print(f\"Batched vectors: v =\\n{v}\\n\")\n",
    "print(\"Packing along rows:\\n\", gv_rows(v))\n",
    "print(\"Packing along columns:\\n\", gv_cols(v))"
   ]
  },
  {
   "cell_type": "markdown",
   "metadata": {},
   "source": [
    "here we *implicitly* vectorized along the rows (`in_axes=0`). We can also combine both:"
   ]
  },
  {
   "cell_type": "code",
   "execution_count": 3,
   "metadata": {},
   "outputs": [
    {
     "name": "stdout",
     "output_type": "stream",
     "text": [
      "Batched vectors: v =\n",
      "[[ 1.6226422   2.0252647 ]\n",
      " [-0.43359444 -0.07861735]\n",
      " [ 0.1760909  -0.97208923]]\n",
      "\n",
      "Vectorizing along rows and packing along rows:\n",
      " [[ 3.2452843  4.0505295]\n",
      " [-0.8671889 -0.1572347]\n",
      " [ 0.3521818 -1.9441785]]\n",
      "Vectorizing along rows and packing along cols:\n",
      " [[ 3.2452843 -0.8671889  0.3521818]\n",
      " [ 4.0505295 -0.1572347 -1.9441785]]\n",
      "Vectorizing along cols and packing along rows:\n",
      " [[ 3.2452843 -0.8671889  0.3521818]\n",
      " [ 4.0505295 -0.1572347 -1.9441785]]\n",
      "Vectorizing along cols and packing along cols:\n",
      " [[ 3.2452843  4.0505295]\n",
      " [-0.8671889 -0.1572347]\n",
      " [ 0.3521818 -1.9441785]]\n"
     ]
    }
   ],
   "source": [
    "def h(x):\n",
    "    return x + x\n",
    "\n",
    "hv_rows_rows = jax.vmap(h, in_axes=0, out_axes=0)\n",
    "hv_rows_cols = jax.vmap(h, in_axes=0, out_axes=1)\n",
    "hv_cols_rows = jax.vmap(h, in_axes=1, out_axes=0)\n",
    "hv_cols_cols = jax.vmap(h, in_axes=1, out_axes=1)\n",
    "\n",
    "print(f\"Batched vectors: v =\\n{v}\\n\")\n",
    "print(\"Vectorizing along rows and packing along rows:\\n\", hv_rows_rows(v))\n",
    "print(\"Vectorizing along rows and packing along cols:\\n\", hv_rows_cols(v))\n",
    "print(\"Vectorizing along cols and packing along rows:\\n\", hv_cols_rows(v))\n",
    "print(\"Vectorizing along cols and packing along cols:\\n\", hv_cols_cols(v))"
   ]
  }
 ],
 "metadata": {
  "kernelspec": {
   "display_name": ".venv",
   "language": "python",
   "name": "python3"
  },
  "language_info": {
   "codemirror_mode": {
    "name": "ipython",
    "version": 3
   },
   "file_extension": ".py",
   "mimetype": "text/x-python",
   "name": "python",
   "nbconvert_exporter": "python",
   "pygments_lexer": "ipython3",
   "version": "3.12.8"
  }
 },
 "nbformat": 4,
 "nbformat_minor": 2
}
