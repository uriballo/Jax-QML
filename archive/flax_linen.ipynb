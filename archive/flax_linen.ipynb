{
 "cells": [
  {
   "metadata": {},
   "cell_type": "markdown",
   "source": "adapted from: https://github.com/schance995/dqc-demo/blob/main/mnist_dqc_demo.ipynb",
   "id": "57c46c73dcc1db82"
  },
  {
   "cell_type": "code",
   "id": "initial_id",
   "metadata": {
    "collapsed": true,
    "ExecuteTime": {
     "end_time": "2025-02-04T13:19:59.642520Z",
     "start_time": "2025-02-04T13:19:44.362673Z"
    }
   },
   "source": "#!pip install pennylane optax flax tqdm transformers datasets",
   "outputs": [
    {
     "name": "stdout",
     "output_type": "stream",
     "text": [
      "Collecting pennylane\r\n",
      "  Using cached PennyLane-0.40.0-py3-none-any.whl.metadata (10 kB)\r\n",
      "Collecting optax\r\n",
      "  Using cached optax-0.2.4-py3-none-any.whl.metadata (8.3 kB)\r\n",
      "Collecting flax\r\n",
      "  Using cached flax-0.10.2-py3-none-any.whl.metadata (11 kB)\r\n",
      "Collecting tqdm\r\n",
      "  Using cached tqdm-4.67.1-py3-none-any.whl.metadata (57 kB)\r\n",
      "Collecting transformers\r\n",
      "  Using cached transformers-4.48.2-py3-none-any.whl.metadata (44 kB)\r\n",
      "Collecting datasets\r\n",
      "  Using cached datasets-3.2.0-py3-none-any.whl.metadata (20 kB)\r\n",
      "Collecting numpy<2.1 (from pennylane)\r\n",
      "  Using cached numpy-2.0.2-cp312-cp312-macosx_14_0_arm64.whl.metadata (60 kB)\r\n",
      "Requirement already satisfied: scipy in ./.venv/lib/python3.12/site-packages (from pennylane) (1.15.1)\r\n",
      "Collecting networkx (from pennylane)\r\n",
      "  Using cached networkx-3.4.2-py3-none-any.whl.metadata (6.3 kB)\r\n",
      "Collecting rustworkx>=0.14.0 (from pennylane)\r\n",
      "  Using cached rustworkx-0.16.0-cp39-abi3-macosx_11_0_arm64.whl.metadata (10 kB)\r\n",
      "Collecting autograd (from pennylane)\r\n",
      "  Using cached autograd-1.7.0-py3-none-any.whl.metadata (7.5 kB)\r\n",
      "Collecting tomlkit (from pennylane)\r\n",
      "  Using cached tomlkit-0.13.2-py3-none-any.whl.metadata (2.7 kB)\r\n",
      "Collecting appdirs (from pennylane)\r\n",
      "  Using cached appdirs-1.4.4-py2.py3-none-any.whl.metadata (9.0 kB)\r\n",
      "Collecting autoray>=0.6.11 (from pennylane)\r\n",
      "  Using cached autoray-0.7.0-py3-none-any.whl.metadata (5.8 kB)\r\n",
      "Collecting cachetools (from pennylane)\r\n",
      "  Using cached cachetools-5.5.1-py3-none-any.whl.metadata (5.4 kB)\r\n",
      "Collecting pennylane-lightning>=0.40 (from pennylane)\r\n",
      "  Using cached PennyLane_Lightning-0.40.0-cp312-cp312-macosx_13_0_arm64.whl.metadata (27 kB)\r\n",
      "Requirement already satisfied: requests in ./.venv/lib/python3.12/site-packages (from pennylane) (2.32.3)\r\n",
      "Requirement already satisfied: typing-extensions in ./.venv/lib/python3.12/site-packages (from pennylane) (4.12.2)\r\n",
      "Requirement already satisfied: packaging in ./.venv/lib/python3.12/site-packages (from pennylane) (24.2)\r\n",
      "Collecting diastatic-malt (from pennylane)\r\n",
      "  Using cached diastatic_malt-2.15.2-py3-none-any.whl.metadata (2.6 kB)\r\n",
      "Collecting absl-py>=0.7.1 (from optax)\r\n",
      "  Using cached absl_py-2.1.0-py3-none-any.whl.metadata (2.3 kB)\r\n",
      "Collecting chex>=0.1.87 (from optax)\r\n",
      "  Using cached chex-0.1.88-py3-none-any.whl.metadata (17 kB)\r\n",
      "Requirement already satisfied: jax>=0.4.27 in ./.venv/lib/python3.12/site-packages (from optax) (0.5.0)\r\n",
      "Requirement already satisfied: jaxlib>=0.4.27 in ./.venv/lib/python3.12/site-packages (from optax) (0.5.0)\r\n",
      "Collecting etils[epy] (from optax)\r\n",
      "  Using cached etils-1.11.0-py3-none-any.whl.metadata (6.5 kB)\r\n",
      "Collecting msgpack (from flax)\r\n",
      "  Using cached msgpack-1.1.0-cp312-cp312-macosx_11_0_arm64.whl.metadata (8.4 kB)\r\n",
      "Collecting orbax-checkpoint (from flax)\r\n",
      "  Using cached orbax_checkpoint-0.11.1-py3-none-any.whl.metadata (1.9 kB)\r\n",
      "Collecting tensorstore (from flax)\r\n",
      "  Using cached tensorstore-0.1.71-cp312-cp312-macosx_11_0_arm64.whl.metadata (21 kB)\r\n",
      "Collecting rich>=11.1 (from flax)\r\n",
      "  Using cached rich-13.9.4-py3-none-any.whl.metadata (18 kB)\r\n",
      "Requirement already satisfied: PyYAML>=5.4.1 in ./.venv/lib/python3.12/site-packages (from flax) (6.0.2)\r\n",
      "Collecting filelock (from transformers)\r\n",
      "  Using cached filelock-3.17.0-py3-none-any.whl.metadata (2.9 kB)\r\n",
      "Collecting huggingface-hub<1.0,>=0.24.0 (from transformers)\r\n",
      "  Using cached huggingface_hub-0.28.1-py3-none-any.whl.metadata (13 kB)\r\n",
      "Collecting regex!=2019.12.17 (from transformers)\r\n",
      "  Using cached regex-2024.11.6-cp312-cp312-macosx_11_0_arm64.whl.metadata (40 kB)\r\n",
      "Collecting tokenizers<0.22,>=0.21 (from transformers)\r\n",
      "  Using cached tokenizers-0.21.0-cp39-abi3-macosx_11_0_arm64.whl.metadata (6.7 kB)\r\n",
      "Collecting safetensors>=0.4.1 (from transformers)\r\n",
      "  Using cached safetensors-0.5.2-cp38-abi3-macosx_11_0_arm64.whl.metadata (3.8 kB)\r\n",
      "Collecting pyarrow>=15.0.0 (from datasets)\r\n",
      "  Using cached pyarrow-19.0.0-cp312-cp312-macosx_12_0_arm64.whl.metadata (3.3 kB)\r\n",
      "Collecting dill<0.3.9,>=0.3.0 (from datasets)\r\n",
      "  Using cached dill-0.3.8-py3-none-any.whl.metadata (10 kB)\r\n",
      "Collecting pandas (from datasets)\r\n",
      "  Using cached pandas-2.2.3-cp312-cp312-macosx_11_0_arm64.whl.metadata (89 kB)\r\n",
      "Collecting xxhash (from datasets)\r\n",
      "  Using cached xxhash-3.5.0-cp312-cp312-macosx_11_0_arm64.whl.metadata (12 kB)\r\n",
      "Collecting multiprocess<0.70.17 (from datasets)\r\n",
      "  Using cached multiprocess-0.70.16-py312-none-any.whl.metadata (7.2 kB)\r\n",
      "Collecting fsspec<=2024.9.0,>=2023.1.0 (from fsspec[http]<=2024.9.0,>=2023.1.0->datasets)\r\n",
      "  Using cached fsspec-2024.9.0-py3-none-any.whl.metadata (11 kB)\r\n",
      "Collecting aiohttp (from datasets)\r\n",
      "  Using cached aiohttp-3.11.11-cp312-cp312-macosx_11_0_arm64.whl.metadata (7.7 kB)\r\n",
      "Requirement already satisfied: setuptools in ./.venv/lib/python3.12/site-packages (from chex>=0.1.87->optax) (75.8.0)\r\n",
      "Collecting toolz>=0.9.0 (from chex>=0.1.87->optax)\r\n",
      "  Using cached toolz-1.0.0-py3-none-any.whl.metadata (5.1 kB)\r\n",
      "Collecting aiohappyeyeballs>=2.3.0 (from aiohttp->datasets)\r\n",
      "  Using cached aiohappyeyeballs-2.4.4-py3-none-any.whl.metadata (6.1 kB)\r\n",
      "Collecting aiosignal>=1.1.2 (from aiohttp->datasets)\r\n",
      "  Using cached aiosignal-1.3.2-py2.py3-none-any.whl.metadata (3.8 kB)\r\n",
      "Requirement already satisfied: attrs>=17.3.0 in ./.venv/lib/python3.12/site-packages (from aiohttp->datasets) (25.1.0)\r\n",
      "Collecting frozenlist>=1.1.1 (from aiohttp->datasets)\r\n",
      "  Using cached frozenlist-1.5.0-cp312-cp312-macosx_11_0_arm64.whl.metadata (13 kB)\r\n",
      "Collecting multidict<7.0,>=4.5 (from aiohttp->datasets)\r\n",
      "  Using cached multidict-6.1.0-cp312-cp312-macosx_11_0_arm64.whl.metadata (5.0 kB)\r\n",
      "Collecting propcache>=0.2.0 (from aiohttp->datasets)\r\n",
      "  Using cached propcache-0.2.1-cp312-cp312-macosx_11_0_arm64.whl.metadata (9.2 kB)\r\n",
      "Collecting yarl<2.0,>=1.17.0 (from aiohttp->datasets)\r\n",
      "  Using cached yarl-1.18.3-cp312-cp312-macosx_11_0_arm64.whl.metadata (69 kB)\r\n",
      "Requirement already satisfied: ml_dtypes>=0.4.0 in ./.venv/lib/python3.12/site-packages (from jax>=0.4.27->optax) (0.5.1)\r\n",
      "Requirement already satisfied: opt_einsum in ./.venv/lib/python3.12/site-packages (from jax>=0.4.27->optax) (3.4.0)\r\n",
      "Collecting scipy-openblas32>=0.3.26 (from pennylane-lightning>=0.40->pennylane)\r\n",
      "  Using cached scipy_openblas32-0.3.29.0.0-py3-none-macosx_11_0_arm64.whl.metadata (56 kB)\r\n",
      "Requirement already satisfied: charset-normalizer<4,>=2 in ./.venv/lib/python3.12/site-packages (from requests->pennylane) (3.4.1)\r\n",
      "Requirement already satisfied: idna<4,>=2.5 in ./.venv/lib/python3.12/site-packages (from requests->pennylane) (3.10)\r\n",
      "Requirement already satisfied: urllib3<3,>=1.21.1 in ./.venv/lib/python3.12/site-packages (from requests->pennylane) (2.3.0)\r\n",
      "Requirement already satisfied: certifi>=2017.4.17 in ./.venv/lib/python3.12/site-packages (from requests->pennylane) (2025.1.31)\r\n",
      "Collecting markdown-it-py>=2.2.0 (from rich>=11.1->flax)\r\n",
      "  Using cached markdown_it_py-3.0.0-py3-none-any.whl.metadata (6.9 kB)\r\n",
      "Requirement already satisfied: pygments<3.0.0,>=2.13.0 in ./.venv/lib/python3.12/site-packages (from rich>=11.1->flax) (2.19.1)\r\n",
      "Collecting astunparse (from diastatic-malt->pennylane)\r\n",
      "  Using cached astunparse-1.6.3-py2.py3-none-any.whl.metadata (4.4 kB)\r\n",
      "Collecting gast (from diastatic-malt->pennylane)\r\n",
      "  Using cached gast-0.6.0-py3-none-any.whl.metadata (1.3 kB)\r\n",
      "Collecting termcolor (from diastatic-malt->pennylane)\r\n",
      "  Using cached termcolor-2.5.0-py3-none-any.whl.metadata (6.1 kB)\r\n",
      "Requirement already satisfied: nest_asyncio in ./.venv/lib/python3.12/site-packages (from orbax-checkpoint->flax) (1.6.0)\r\n",
      "Collecting protobuf (from orbax-checkpoint->flax)\r\n",
      "  Using cached protobuf-5.29.3-cp38-abi3-macosx_10_9_universal2.whl.metadata (592 bytes)\r\n",
      "Collecting humanize (from orbax-checkpoint->flax)\r\n",
      "  Using cached humanize-4.11.0-py3-none-any.whl.metadata (7.8 kB)\r\n",
      "Collecting simplejson>=3.16.0 (from orbax-checkpoint->flax)\r\n",
      "  Using cached simplejson-3.19.3-cp312-cp312-macosx_11_0_arm64.whl.metadata (3.2 kB)\r\n",
      "Requirement already satisfied: python-dateutil>=2.8.2 in ./.venv/lib/python3.12/site-packages (from pandas->datasets) (2.9.0.post0)\r\n",
      "Collecting pytz>=2020.1 (from pandas->datasets)\r\n",
      "  Using cached pytz-2025.1-py2.py3-none-any.whl.metadata (22 kB)\r\n",
      "Collecting tzdata>=2022.7 (from pandas->datasets)\r\n",
      "  Using cached tzdata-2025.1-py2.py3-none-any.whl.metadata (1.4 kB)\r\n",
      "Collecting mdurl~=0.1 (from markdown-it-py>=2.2.0->rich>=11.1->flax)\r\n",
      "  Using cached mdurl-0.1.2-py3-none-any.whl.metadata (1.6 kB)\r\n",
      "Requirement already satisfied: six>=1.5 in ./.venv/lib/python3.12/site-packages (from python-dateutil>=2.8.2->pandas->datasets) (1.17.0)\r\n",
      "Requirement already satisfied: wheel<1.0,>=0.23.0 in ./.venv/lib/python3.12/site-packages (from astunparse->diastatic-malt->pennylane) (0.45.1)\r\n",
      "Collecting importlib_resources (from etils[epy]->optax)\r\n",
      "  Using cached importlib_resources-6.5.2-py3-none-any.whl.metadata (3.9 kB)\r\n",
      "Collecting zipp (from etils[epy]->optax)\r\n",
      "  Using cached zipp-3.21.0-py3-none-any.whl.metadata (3.7 kB)\r\n",
      "Using cached PennyLane-0.40.0-py3-none-any.whl (2.0 MB)\r\n",
      "Using cached optax-0.2.4-py3-none-any.whl (319 kB)\r\n",
      "Using cached flax-0.10.2-py3-none-any.whl (424 kB)\r\n",
      "Using cached tqdm-4.67.1-py3-none-any.whl (78 kB)\r\n",
      "Using cached transformers-4.48.2-py3-none-any.whl (9.7 MB)\r\n",
      "Using cached datasets-3.2.0-py3-none-any.whl (480 kB)\r\n",
      "Using cached absl_py-2.1.0-py3-none-any.whl (133 kB)\r\n",
      "Using cached autoray-0.7.0-py3-none-any.whl (930 kB)\r\n",
      "Using cached chex-0.1.88-py3-none-any.whl (99 kB)\r\n",
      "Using cached dill-0.3.8-py3-none-any.whl (116 kB)\r\n",
      "Using cached fsspec-2024.9.0-py3-none-any.whl (179 kB)\r\n",
      "Using cached aiohttp-3.11.11-cp312-cp312-macosx_11_0_arm64.whl (455 kB)\r\n",
      "Using cached huggingface_hub-0.28.1-py3-none-any.whl (464 kB)\r\n",
      "Using cached multiprocess-0.70.16-py312-none-any.whl (146 kB)\r\n",
      "Using cached numpy-2.0.2-cp312-cp312-macosx_14_0_arm64.whl (5.0 MB)\r\n",
      "Using cached PennyLane_Lightning-0.40.0-cp312-cp312-macosx_13_0_arm64.whl (1.7 MB)\r\n",
      "Using cached pyarrow-19.0.0-cp312-cp312-macosx_12_0_arm64.whl (30.7 MB)\r\n",
      "Using cached regex-2024.11.6-cp312-cp312-macosx_11_0_arm64.whl (284 kB)\r\n",
      "Using cached rich-13.9.4-py3-none-any.whl (242 kB)\r\n",
      "Using cached rustworkx-0.16.0-cp39-abi3-macosx_11_0_arm64.whl (1.9 MB)\r\n",
      "Using cached safetensors-0.5.2-cp38-abi3-macosx_11_0_arm64.whl (408 kB)\r\n",
      "Using cached tokenizers-0.21.0-cp39-abi3-macosx_11_0_arm64.whl (2.6 MB)\r\n",
      "Using cached appdirs-1.4.4-py2.py3-none-any.whl (9.6 kB)\r\n",
      "Using cached autograd-1.7.0-py3-none-any.whl (52 kB)\r\n",
      "Using cached cachetools-5.5.1-py3-none-any.whl (9.5 kB)\r\n",
      "Using cached diastatic_malt-2.15.2-py3-none-any.whl (167 kB)\r\n",
      "Using cached filelock-3.17.0-py3-none-any.whl (16 kB)\r\n",
      "Using cached msgpack-1.1.0-cp312-cp312-macosx_11_0_arm64.whl (82 kB)\r\n",
      "Using cached networkx-3.4.2-py3-none-any.whl (1.7 MB)\r\n",
      "Using cached orbax_checkpoint-0.11.1-py3-none-any.whl (394 kB)\r\n",
      "Using cached tensorstore-0.1.71-cp312-cp312-macosx_11_0_arm64.whl (13.1 MB)\r\n",
      "Using cached pandas-2.2.3-cp312-cp312-macosx_11_0_arm64.whl (11.4 MB)\r\n",
      "Using cached tomlkit-0.13.2-py3-none-any.whl (37 kB)\r\n",
      "Using cached xxhash-3.5.0-cp312-cp312-macosx_11_0_arm64.whl (30 kB)\r\n",
      "Using cached aiohappyeyeballs-2.4.4-py3-none-any.whl (14 kB)\r\n",
      "Using cached aiosignal-1.3.2-py2.py3-none-any.whl (7.6 kB)\r\n",
      "Using cached frozenlist-1.5.0-cp312-cp312-macosx_11_0_arm64.whl (51 kB)\r\n",
      "Using cached markdown_it_py-3.0.0-py3-none-any.whl (87 kB)\r\n",
      "Using cached multidict-6.1.0-cp312-cp312-macosx_11_0_arm64.whl (29 kB)\r\n",
      "Using cached propcache-0.2.1-cp312-cp312-macosx_11_0_arm64.whl (45 kB)\r\n",
      "Using cached pytz-2025.1-py2.py3-none-any.whl (507 kB)\r\n",
      "Using cached scipy_openblas32-0.3.29.0.0-py3-none-macosx_11_0_arm64.whl (9.3 MB)\r\n",
      "Using cached simplejson-3.19.3-cp312-cp312-macosx_11_0_arm64.whl (74 kB)\r\n",
      "Using cached toolz-1.0.0-py3-none-any.whl (56 kB)\r\n",
      "Using cached tzdata-2025.1-py2.py3-none-any.whl (346 kB)\r\n",
      "Using cached yarl-1.18.3-cp312-cp312-macosx_11_0_arm64.whl (92 kB)\r\n",
      "Using cached astunparse-1.6.3-py2.py3-none-any.whl (12 kB)\r\n",
      "Using cached etils-1.11.0-py3-none-any.whl (165 kB)\r\n",
      "Using cached gast-0.6.0-py3-none-any.whl (21 kB)\r\n",
      "Using cached humanize-4.11.0-py3-none-any.whl (128 kB)\r\n",
      "Using cached protobuf-5.29.3-cp38-abi3-macosx_10_9_universal2.whl (417 kB)\r\n",
      "Using cached termcolor-2.5.0-py3-none-any.whl (7.8 kB)\r\n",
      "Using cached mdurl-0.1.2-py3-none-any.whl (10.0 kB)\r\n",
      "Using cached importlib_resources-6.5.2-py3-none-any.whl (37 kB)\r\n",
      "Using cached zipp-3.21.0-py3-none-any.whl (9.6 kB)\r\n",
      "Installing collected packages: pytz, appdirs, zipp, xxhash, tzdata, tqdm, toolz, tomlkit, termcolor, simplejson, scipy-openblas32, safetensors, regex, pyarrow, protobuf, propcache, numpy, networkx, multidict, msgpack, mdurl, importlib_resources, humanize, gast, fsspec, frozenlist, filelock, etils, dill, cachetools, autoray, astunparse, aiohappyeyeballs, absl-py, yarl, rustworkx, pandas, multiprocess, markdown-it-py, huggingface-hub, diastatic-malt, autograd, aiosignal, tokenizers, tensorstore, rich, aiohttp, transformers, orbax-checkpoint, datasets, chex, optax, flax, pennylane-lightning, pennylane\r\n",
      "  Attempting uninstall: numpy\r\n",
      "    Found existing installation: numpy 2.2.2\r\n",
      "    Uninstalling numpy-2.2.2:\r\n",
      "      Successfully uninstalled numpy-2.2.2\r\n",
      "Successfully installed absl-py-2.1.0 aiohappyeyeballs-2.4.4 aiohttp-3.11.11 aiosignal-1.3.2 appdirs-1.4.4 astunparse-1.6.3 autograd-1.7.0 autoray-0.7.0 cachetools-5.5.1 chex-0.1.88 datasets-3.2.0 diastatic-malt-2.15.2 dill-0.3.8 etils-1.11.0 filelock-3.17.0 flax-0.10.2 frozenlist-1.5.0 fsspec-2024.9.0 gast-0.6.0 huggingface-hub-0.28.1 humanize-4.11.0 importlib_resources-6.5.2 markdown-it-py-3.0.0 mdurl-0.1.2 msgpack-1.1.0 multidict-6.1.0 multiprocess-0.70.16 networkx-3.4.2 numpy-2.0.2 optax-0.2.4 orbax-checkpoint-0.11.1 pandas-2.2.3 pennylane-0.40.0 pennylane-lightning-0.40.0 propcache-0.2.1 protobuf-5.29.3 pyarrow-19.0.0 pytz-2025.1 regex-2024.11.6 rich-13.9.4 rustworkx-0.16.0 safetensors-0.5.2 scipy-openblas32-0.3.29.0.0 simplejson-3.19.3 tensorstore-0.1.71 termcolor-2.5.0 tokenizers-0.21.0 tomlkit-0.13.2 toolz-1.0.0 tqdm-4.67.1 transformers-4.48.2 tzdata-2025.1 xxhash-3.5.0 yarl-1.18.3 zipp-3.21.0\r\n"
     ]
    }
   ],
   "execution_count": 1
  },
  {
   "metadata": {
    "ExecuteTime": {
     "end_time": "2025-02-04T13:20:27.322820Z",
     "start_time": "2025-02-04T13:19:59.647305Z"
    }
   },
   "cell_type": "code",
   "source": [
    "from typing import Callable\n",
    "\n",
    "import jax\n",
    "import optax\n",
    "import pennylane as qml\n",
    "from datasets import load_dataset\n",
    "from flax import linen as nn\n",
    "from flax.training.train_state import TrainState\n",
    "from jax import numpy as jnp\n",
    "from jax import random as jrand\n",
    "from tqdm import tqdm\n",
    "from transformers import FlaxResNetModel"
   ],
   "id": "de14e9b3613ea952",
   "outputs": [
    {
     "name": "stderr",
     "output_type": "stream",
     "text": [
      "/Users/uribagi/Documents/GitHub/Jax-QML/.venv/lib/python3.12/site-packages/tqdm/auto.py:21: TqdmWarning: IProgress not found. Please update jupyter and ipywidgets. See https://ipywidgets.readthedocs.io/en/stable/user_install.html\n",
      "  from .autonotebook import tqdm as notebook_tqdm\n"
     ]
    }
   ],
   "execution_count": 2
  },
  {
   "metadata": {
    "ExecuteTime": {
     "end_time": "2025-02-04T13:20:27.391947Z",
     "start_time": "2025-02-04T13:20:27.390247Z"
    }
   },
   "cell_type": "code",
   "source": [
    "N_QUBITS = 10\n",
    "N_LAYERS = 6\n",
    "BATCH_SIZE = 16\n",
    "LEARNING_RATE = 1e-4"
   ],
   "id": "eefddf2cc58cda45",
   "outputs": [],
   "execution_count": 3
  },
  {
   "metadata": {
    "ExecuteTime": {
     "end_time": "2025-02-04T13:20:27.402697Z",
     "start_time": "2025-02-04T13:20:27.400520Z"
    }
   },
   "cell_type": "code",
   "source": [
    "def make_circuit(dev, n_qubits, n_layers):\n",
    "    @qml.qnode(dev, interface=\"jax-jit\")\n",
    "    def circuit(x, circuit_weights):\n",
    "        # data encoding\n",
    "        for i in range(n_qubits):\n",
    "            qml.Hadamard(wires=i)\n",
    "            qml.RY(x[i], wires=i)\n",
    "        # trainable unitary\n",
    "        qml.StronglyEntanglingLayers(circuit_weights, wires=range(n_qubits))\n",
    "\n",
    "        return [qml.expval(qml.PauliZ(wires=i)) for i in range(n_qubits)]\n",
    "\n",
    "    return jax.jit(jax.vmap(circuit, in_axes=(0, None)))"
   ],
   "id": "5aad3806133be9bb",
   "outputs": [],
   "execution_count": 4
  },
  {
   "metadata": {
    "ExecuteTime": {
     "end_time": "2025-02-04T13:20:27.408971Z",
     "start_time": "2025-02-04T13:20:27.406670Z"
    }
   },
   "cell_type": "code",
   "source": [
    "\n",
    "class QuantumCircuit(nn.Module):\n",
    "    num_qubits: int\n",
    "    num_layers: int\n",
    "    circuit: Callable\n",
    "\n",
    "    @nn.compact\n",
    "    def __call__(self, x):\n",
    "        circuit_weights = self.param(\n",
    "            'circuit_weights',\n",
    "            nn.initializers.normal(),\n",
    "            (self.num_layers, self.num_qubits, 3),\n",
    "        )\n",
    "        x = self.circuit(x, circuit_weights)\n",
    "        x = jnp.array(x).T\n",
    "        return x"
   ],
   "id": "b8c0b95fe3437a9",
   "outputs": [],
   "execution_count": 5
  },
  {
   "metadata": {
    "ExecuteTime": {
     "end_time": "2025-02-04T13:20:27.415786Z",
     "start_time": "2025-02-04T13:20:27.412975Z"
    }
   },
   "cell_type": "code",
   "source": [
    "\n",
    "class DressedQuantumClassifier(nn.Module):\n",
    "    backbone: nn.Module\n",
    "    circuit: Callable\n",
    "    num_qubits: int\n",
    "    num_layers: int\n",
    "    num_labels: int\n",
    "\n",
    "    @nn.compact\n",
    "    def __call__(self, x):\n",
    "        x = self.backbone(x)\n",
    "        x = x.pooler_output[:, :, 0, 0]\n",
    "        # reduce features to fit into quantum circuit\n",
    "        x = nn.Dense(features=self.num_qubits)(x)\n",
    "        # rescale inputs\n",
    "        x = jnp.tanh(x) * jnp.pi / 2\n",
    "        x = QuantumCircuit(\n",
    "            num_qubits=self.num_qubits,\n",
    "            num_layers=self.num_layers,\n",
    "            circuit=self.circuit,\n",
    "        )(x)\n",
    "        x = nn.Dense(features=self.num_labels)(x)\n",
    "        return x"
   ],
   "id": "72bb575205c2f06",
   "outputs": [],
   "execution_count": 6
  },
  {
   "metadata": {
    "ExecuteTime": {
     "end_time": "2025-02-04T13:20:27.421798Z",
     "start_time": "2025-02-04T13:20:27.419392Z"
    }
   },
   "cell_type": "code",
   "source": [
    "def create_train_step(model, params, optimizer):\n",
    "    state = TrainState.create(apply_fn=model.apply, params=params, tx=optimizer)\n",
    "\n",
    "    @jax.jit\n",
    "    def predict(params, x):\n",
    "        logits = model.apply(params, x)\n",
    "        return logits.argmax(axis=1)\n",
    "\n",
    "    @jax.jit\n",
    "    def loss_fn(params, x, y):\n",
    "        logits = model.apply(params, x)\n",
    "        loss = optax.softmax_cross_entropy_with_integer_labels(logits, y).mean()\n",
    "        return loss\n",
    "\n",
    "    @jax.jit\n",
    "    def train_step(state, x, y):\n",
    "        loss, grads = jax.value_and_grad(loss_fn)(state.params, x, y)\n",
    "        state = state.apply_gradients(grads=grads)\n",
    "        return state, loss\n",
    "\n",
    "    return train_step, loss_fn, predict, state"
   ],
   "id": "7206046226901723",
   "outputs": [],
   "execution_count": 7
  },
  {
   "metadata": {
    "ExecuteTime": {
     "end_time": "2025-02-04T13:20:50.144941Z",
     "start_time": "2025-02-04T13:20:27.425848Z"
    }
   },
   "cell_type": "code",
   "source": [
    "\n",
    "dev = qml.device('lightning.qubit', wires=N_QUBITS)\n",
    "circuit = make_circuit(dev, N_QUBITS, N_LAYERS)\n",
    "\n",
    "resnet = FlaxResNetModel.from_pretrained('microsoft/resnet-50')\n",
    "\n",
    "dqc = DressedQuantumClassifier(\n",
    "    backbone=resnet.module,\n",
    "    circuit=circuit,\n",
    "    num_qubits=N_QUBITS,\n",
    "    num_layers=N_LAYERS,\n",
    "    num_labels=10,\n",
    ")\n"
   ],
   "id": "413dfd3f68f3b16",
   "outputs": [
    {
     "name": "stderr",
     "output_type": "stream",
     "text": [
      "WARNING:2025-02-04 14:20:29,193:jax._src.xla_bridge:1018: Platform 'METAL' is experimental and not all JAX functionality may be correctly supported!\n",
      "WARNING: All log messages before absl::InitializeLog() is called are written to STDERR\n",
      "W0000 00:00:1738675229.194316  373957 mps_client.cc:510] WARNING: JAX Apple GPU support is experimental and not all JAX functionality is correctly supported!\n",
      "I0000 00:00:1738675229.211264  373957 service.cc:145] XLA service 0x600000e5ef00 initialized for platform METAL (this does not guarantee that XLA will be used). Devices:\n",
      "I0000 00:00:1738675229.211289  373957 service.cc:153]   StreamExecutor device (0): Metal, <undefined>\n",
      "I0000 00:00:1738675229.212788  373957 mps_client.cc:406] Using Simple allocator.\n",
      "I0000 00:00:1738675229.212800  373957 mps_client.cc:384] XLA backend will use up to 28990554112 bytes on device 0 for SimpleAllocator.\n"
     ]
    },
    {
     "name": "stdout",
     "output_type": "stream",
     "text": [
      "Metal device set to: Apple M3 Max\n"
     ]
    }
   ],
   "execution_count": 8
  },
  {
   "metadata": {
    "ExecuteTime": {
     "end_time": "2025-02-04T13:20:51.668591Z",
     "start_time": "2025-02-04T13:20:50.152196Z"
    }
   },
   "cell_type": "code",
   "source": [
    "zero_image = jnp.empty((1, 224, 224, 3))\n",
    "key = jrand.PRNGKey(42)\n",
    "params = dqc.init(key, zero_image)"
   ],
   "id": "4cb64d7bbd496bb8",
   "outputs": [
    {
     "ename": "ValueError",
     "evalue": "`EmitPythonCallback` not supported on METAL backend.",
     "output_type": "error",
     "traceback": [
      "\u001B[0;31m---------------------------------------------------------------------------\u001B[0m",
      "\u001B[0;31mKeyError\u001B[0m                                  Traceback (most recent call last)",
      "File \u001B[0;32m~/Documents/GitHub/Jax-QML/.venv/lib/python3.12/site-packages/jax/_src/interpreters/mlir.py:2199\u001B[0m, in \u001B[0;36m_lower_jaxpr_to_fun_cached\u001B[0;34m(ctx, fn_name, call_jaxpr, effects, name_stack, arg_names, result_names)\u001B[0m\n\u001B[1;32m   2198\u001B[0m \u001B[38;5;28;01mtry\u001B[39;00m:\n\u001B[0;32m-> 2199\u001B[0m   func_op \u001B[38;5;241m=\u001B[39m \u001B[43mctx\u001B[49m\u001B[38;5;241;43m.\u001B[39;49m\u001B[43mcached_primitive_lowerings\u001B[49m\u001B[43m[\u001B[49m\u001B[43mkey\u001B[49m\u001B[43m]\u001B[49m\n\u001B[1;32m   2200\u001B[0m \u001B[38;5;28;01mexcept\u001B[39;00m \u001B[38;5;167;01mKeyError\u001B[39;00m:\n",
      "\u001B[0;31mKeyError\u001B[0m: (None, { lambda ; a:f32[] b:f32[] c:f32[] d:f32[] e:f32[] f:f32[] g:f32[] h:f32[] i:f32[]\n    j:f32[] k:f32[] l:f32[] m:f32[] n:f32[] o:f32[] p:f32[] q:f32[] r:f32[] s:f32[]\n    t:f32[] u:f32[] v:f32[] w:f32[] x:f32[] y:f32[] z:f32[] ba:f32[] bb:f32[] bc:f32[]\n    bd:f32[] be:f32[] bf:f32[] bg:f32[] bh:f32[] bi:f32[] bj:f32[] bk:f32[] bl:f32[]\n    bm:f32[] bn:f32[] bo:f32[] bp:f32[] bq:f32[] br:f32[] bs:f32[] bt:f32[] bu:f32[]\n    bv:f32[] bw:f32[] bx:f32[] by:f32[] bz:f32[] ca:f32[] cb:f32[] cc:f32[] cd:f32[]\n    ce:f32[] cf:f32[] cg:f32[] ch:f32[] ci:f32[] cj:f32[] ck:f32[] cl:f32[] cm:f32[]\n    cn:f32[] co:f32[] cp:f32[] cq:f32[] cr:f32[] cs:f32[] ct:f32[] cu:f32[] cv:f32[]\n    cw:f32[] cx:f32[] cy:f32[] cz:f32[] da:f32[] db:f32[] dc:f32[] dd:f32[] de:f32[]\n    df:f32[] dg:f32[] dh:f32[] di:f32[] dj:f32[] dk:f32[] dl:f32[] dm:f32[] dn:f32[]\n    do:f32[] dp:f32[] dq:f32[] dr:f32[] ds:f32[] dt:f32[] du:f32[] dv:f32[] dw:f32[]\n    dx:f32[] dy:f32[] dz:f32[] ea:f32[] eb:f32[] ec:f32[] ed:f32[] ee:f32[] ef:f32[]\n    eg:f32[] eh:f32[] ei:f32[] ej:f32[] ek:f32[] el:f32[] em:f32[] en:f32[] eo:f32[]\n    ep:f32[] eq:f32[] er:f32[] es:f32[] et:f32[] eu:f32[] ev:f32[] ew:f32[] ex:f32[]\n    ey:f32[] ez:f32[] fa:f32[] fb:f32[] fc:f32[] fd:f32[] fe:f32[] ff:f32[] fg:f32[]\n    fh:f32[] fi:f32[] fj:f32[] fk:f32[] fl:f32[] fm:f32[] fn:f32[] fo:f32[] fp:f32[]\n    fq:f32[] fr:f32[] fs:f32[] ft:f32[] fu:f32[] fv:f32[] fw:f32[] fx:f32[] fy:f32[]\n    fz:f32[] ga:f32[] gb:f32[] gc:f32[] gd:f32[] ge:f32[] gf:f32[] gg:f32[] gh:f32[]\n    gi:f32[] gj:f32[] gk:f32[] gl:f32[] gm:f32[] gn:f32[] go:f32[] gp:f32[] gq:f32[]\n    gr:f32[] gs:f32[] gt:f32[] gu:f32[] gv:f32[] gw:f32[] gx:f32[] gy:f32[] gz:f32[]\n    ha:f32[] hb:f32[] hc:f32[] hd:f32[] he:f32[] hf:f32[] hg:f32[] hh:f32[]. let\n    hi:f32[] hj:f32[] hk:f32[] hl:f32[] hm:f32[] hn:f32[] ho:f32[] hp:f32[] hq:f32[]\n      hr:f32[] = pure_callback[\n      callback=_FlatCallback(callback_func=<function _execute_wrapper_inner.<locals>.pure_callback_wrapper at 0x3d770d440>, in_tree=PyTreeDef(((((*, *, *, *, *, *, *, *, *, *, *, *, *, *, *, *, *, *, *, *, *, *, *, *, *, *, *, *, *, *, *, *, *, *, *, *, *, *, *, *, *, *, *, *, *, *, *, *, *, *, *, *, *, *, *, *, *, *, *, *, *, *, *, *, *, *, *, *, *, *, *, *, *, *, *, *, *, *, *, *, *, *, *, *, *, *, *, *, *, *, *, *, *, *, *, *, *, *, *, *, *, *, *, *, *, *, *, *, *, *, *, *, *, *, *, *, *, *, *, *, *, *, *, *, *, *, *, *, *, *, *, *, *, *, *, *, *, *, *, *, *, *, *, *, *, *, *, *, *, *, *, *, *, *, *, *, *, *, *, *, *, *, *, *, *, *, *, *, *, *, *, *, *, *, *, *, *, *, *, *, *, *, *, *, *, *, *, *, *, *),),), {})))\n      result_avals=(ShapedArray(float32[]), ShapedArray(float32[]), ShapedArray(float32[]), ShapedArray(float32[]), ShapedArray(float32[]), ShapedArray(float32[]), ShapedArray(float32[]), ShapedArray(float32[]), ShapedArray(float32[]), ShapedArray(float32[]))\n      sharding=None\n      vectorized=False\n      vmap_method=sequential\n    ] gy gz ha hb hc hd he hf hg hh a b c d e f g h i j k l m n o p q r s t u v w\n      x y z ba bb bc bd be bf bg bh bi bj bk bl bm bn bo bp bq br bs bt bu bv bw\n      bx by bz ca cb cc cd ce cf cg ch ci cj ck cl cm cn co cp cq cr cs ct cu cv\n      cw cx cy cz da db dc dd de df dg dh di dj dk dl dm dn do dp dq dr ds dt du\n      dv dw dx dy dz ea eb ec ed ee ef eg eh ei ej ek el em en eo ep eq er es et\n      eu ev ew ex ey ez fa fb fc fd fe ff fg fh fi fj fk fl fm fn fo fp fq fr fs\n      ft fu fv fw fx fy fz ga gb gc gd ge gf gg gh gi gj gk gl gm gn go gp gq gr\n      gs gt gu gv gw gx\n  in (hi, hj, hk, hl, hm, hn, ho, hp, hq, hr) }, ())",
      "\nDuring handling of the above exception, another exception occurred:\n",
      "\u001B[0;31mJaxStackTraceBeforeTransformation\u001B[0m         Traceback (most recent call last)",
      "File \u001B[0;32m<frozen runpy>:198\u001B[0m, in \u001B[0;36m_run_module_as_main\u001B[0;34m()\u001B[0m\n",
      "File \u001B[0;32m<frozen runpy>:88\u001B[0m, in \u001B[0;36m_run_code\u001B[0;34m()\u001B[0m\n",
      "File \u001B[0;32m~/Documents/GitHub/Jax-QML/.venv/lib/python3.12/site-packages/ipykernel_launcher.py:18\u001B[0m\n\u001B[1;32m     16\u001B[0m \u001B[38;5;28;01mfrom\u001B[39;00m\u001B[38;5;250m \u001B[39m\u001B[38;5;21;01mipykernel\u001B[39;00m\u001B[38;5;250m \u001B[39m\u001B[38;5;28;01mimport\u001B[39;00m kernelapp \u001B[38;5;28;01mas\u001B[39;00m app\n\u001B[0;32m---> 18\u001B[0m app\u001B[38;5;241m.\u001B[39mlaunch_new_instance()\n",
      "File \u001B[0;32m~/Documents/GitHub/Jax-QML/.venv/lib/python3.12/site-packages/traitlets/config/application.py:1075\u001B[0m, in \u001B[0;36mlaunch_instance\u001B[0;34m()\u001B[0m\n\u001B[1;32m   1074\u001B[0m app\u001B[38;5;241m.\u001B[39minitialize(argv)\n\u001B[0;32m-> 1075\u001B[0m app\u001B[38;5;241m.\u001B[39mstart()\n",
      "File \u001B[0;32m~/Documents/GitHub/Jax-QML/.venv/lib/python3.12/site-packages/ipykernel/kernelapp.py:739\u001B[0m, in \u001B[0;36mstart\u001B[0;34m()\u001B[0m\n\u001B[1;32m    738\u001B[0m \u001B[38;5;28;01mtry\u001B[39;00m:\n\u001B[0;32m--> 739\u001B[0m     \u001B[38;5;28mself\u001B[39m\u001B[38;5;241m.\u001B[39mio_loop\u001B[38;5;241m.\u001B[39mstart()\n\u001B[1;32m    740\u001B[0m \u001B[38;5;28;01mexcept\u001B[39;00m \u001B[38;5;167;01mKeyboardInterrupt\u001B[39;00m:\n",
      "File \u001B[0;32m~/Documents/GitHub/Jax-QML/.venv/lib/python3.12/site-packages/tornado/platform/asyncio.py:205\u001B[0m, in \u001B[0;36mstart\u001B[0;34m()\u001B[0m\n\u001B[1;32m    204\u001B[0m \u001B[38;5;28;01mdef\u001B[39;00m\u001B[38;5;250m \u001B[39m\u001B[38;5;21mstart\u001B[39m(\u001B[38;5;28mself\u001B[39m) \u001B[38;5;241m-\u001B[39m\u001B[38;5;241m>\u001B[39m \u001B[38;5;28;01mNone\u001B[39;00m:\n\u001B[0;32m--> 205\u001B[0m     \u001B[38;5;28mself\u001B[39m\u001B[38;5;241m.\u001B[39masyncio_loop\u001B[38;5;241m.\u001B[39mrun_forever()\n",
      "File \u001B[0;32m/opt/homebrew/Cellar/python@3.12/3.12.8/Frameworks/Python.framework/Versions/3.12/lib/python3.12/asyncio/base_events.py:640\u001B[0m, in \u001B[0;36mrun_forever\u001B[0;34m()\u001B[0m\n\u001B[1;32m    639\u001B[0m \u001B[38;5;28;01mwhile\u001B[39;00m \u001B[38;5;28;01mTrue\u001B[39;00m:\n\u001B[0;32m--> 640\u001B[0m     \u001B[38;5;28mself\u001B[39m\u001B[38;5;241m.\u001B[39m_run_once()\n\u001B[1;32m    641\u001B[0m     \u001B[38;5;28;01mif\u001B[39;00m \u001B[38;5;28mself\u001B[39m\u001B[38;5;241m.\u001B[39m_stopping:\n",
      "File \u001B[0;32m/opt/homebrew/Cellar/python@3.12/3.12.8/Frameworks/Python.framework/Versions/3.12/lib/python3.12/asyncio/base_events.py:1992\u001B[0m, in \u001B[0;36m_run_once\u001B[0;34m()\u001B[0m\n\u001B[1;32m   1991\u001B[0m     \u001B[38;5;28;01melse\u001B[39;00m:\n\u001B[0;32m-> 1992\u001B[0m         handle\u001B[38;5;241m.\u001B[39m_run()\n\u001B[1;32m   1993\u001B[0m handle \u001B[38;5;241m=\u001B[39m \u001B[38;5;28;01mNone\u001B[39;00m\n",
      "File \u001B[0;32m/opt/homebrew/Cellar/python@3.12/3.12.8/Frameworks/Python.framework/Versions/3.12/lib/python3.12/asyncio/events.py:88\u001B[0m, in \u001B[0;36m_run\u001B[0;34m()\u001B[0m\n\u001B[1;32m     87\u001B[0m \u001B[38;5;28;01mtry\u001B[39;00m:\n\u001B[0;32m---> 88\u001B[0m     \u001B[38;5;28mself\u001B[39m\u001B[38;5;241m.\u001B[39m_context\u001B[38;5;241m.\u001B[39mrun(\u001B[38;5;28mself\u001B[39m\u001B[38;5;241m.\u001B[39m_callback, \u001B[38;5;241m*\u001B[39m\u001B[38;5;28mself\u001B[39m\u001B[38;5;241m.\u001B[39m_args)\n\u001B[1;32m     89\u001B[0m \u001B[38;5;28;01mexcept\u001B[39;00m (\u001B[38;5;167;01mSystemExit\u001B[39;00m, \u001B[38;5;167;01mKeyboardInterrupt\u001B[39;00m):\n",
      "File \u001B[0;32m~/Documents/GitHub/Jax-QML/.venv/lib/python3.12/site-packages/ipykernel/kernelbase.py:545\u001B[0m, in \u001B[0;36mdispatch_queue\u001B[0;34m()\u001B[0m\n\u001B[1;32m    544\u001B[0m \u001B[38;5;28;01mtry\u001B[39;00m:\n\u001B[0;32m--> 545\u001B[0m     \u001B[38;5;28;01mawait\u001B[39;00m \u001B[38;5;28mself\u001B[39m\u001B[38;5;241m.\u001B[39mprocess_one()\n\u001B[1;32m    546\u001B[0m \u001B[38;5;28;01mexcept\u001B[39;00m \u001B[38;5;167;01mException\u001B[39;00m:\n",
      "File \u001B[0;32m~/Documents/GitHub/Jax-QML/.venv/lib/python3.12/site-packages/ipykernel/kernelbase.py:534\u001B[0m, in \u001B[0;36mprocess_one\u001B[0;34m()\u001B[0m\n\u001B[1;32m    533\u001B[0m         \u001B[38;5;28;01mreturn\u001B[39;00m\n\u001B[0;32m--> 534\u001B[0m \u001B[38;5;28;01mawait\u001B[39;00m dispatch(\u001B[38;5;241m*\u001B[39margs)\n",
      "File \u001B[0;32m~/Documents/GitHub/Jax-QML/.venv/lib/python3.12/site-packages/ipykernel/kernelbase.py:437\u001B[0m, in \u001B[0;36mdispatch_shell\u001B[0;34m()\u001B[0m\n\u001B[1;32m    436\u001B[0m     \u001B[38;5;28;01mif\u001B[39;00m inspect\u001B[38;5;241m.\u001B[39misawaitable(result):\n\u001B[0;32m--> 437\u001B[0m         \u001B[38;5;28;01mawait\u001B[39;00m result\n\u001B[1;32m    438\u001B[0m \u001B[38;5;28;01mexcept\u001B[39;00m \u001B[38;5;167;01mException\u001B[39;00m:\n",
      "File \u001B[0;32m~/Documents/GitHub/Jax-QML/.venv/lib/python3.12/site-packages/ipykernel/ipkernel.py:362\u001B[0m, in \u001B[0;36mexecute_request\u001B[0;34m()\u001B[0m\n\u001B[1;32m    361\u001B[0m \u001B[38;5;28mself\u001B[39m\u001B[38;5;241m.\u001B[39m_associate_new_top_level_threads_with(parent_header)\n\u001B[0;32m--> 362\u001B[0m \u001B[38;5;28;01mawait\u001B[39;00m \u001B[38;5;28msuper\u001B[39m()\u001B[38;5;241m.\u001B[39mexecute_request(stream, ident, parent)\n",
      "File \u001B[0;32m~/Documents/GitHub/Jax-QML/.venv/lib/python3.12/site-packages/ipykernel/kernelbase.py:778\u001B[0m, in \u001B[0;36mexecute_request\u001B[0;34m()\u001B[0m\n\u001B[1;32m    777\u001B[0m \u001B[38;5;28;01mif\u001B[39;00m inspect\u001B[38;5;241m.\u001B[39misawaitable(reply_content):\n\u001B[0;32m--> 778\u001B[0m     reply_content \u001B[38;5;241m=\u001B[39m \u001B[38;5;28;01mawait\u001B[39;00m reply_content\n\u001B[1;32m    780\u001B[0m \u001B[38;5;66;03m# Flush output before sending the reply.\u001B[39;00m\n",
      "File \u001B[0;32m~/Documents/GitHub/Jax-QML/.venv/lib/python3.12/site-packages/ipykernel/ipkernel.py:449\u001B[0m, in \u001B[0;36mdo_execute\u001B[0;34m()\u001B[0m\n\u001B[1;32m    448\u001B[0m \u001B[38;5;28;01mif\u001B[39;00m accepts_params[\u001B[38;5;124m\"\u001B[39m\u001B[38;5;124mcell_id\u001B[39m\u001B[38;5;124m\"\u001B[39m]:\n\u001B[0;32m--> 449\u001B[0m     res \u001B[38;5;241m=\u001B[39m shell\u001B[38;5;241m.\u001B[39mrun_cell(\n\u001B[1;32m    450\u001B[0m         code,\n\u001B[1;32m    451\u001B[0m         store_history\u001B[38;5;241m=\u001B[39mstore_history,\n\u001B[1;32m    452\u001B[0m         silent\u001B[38;5;241m=\u001B[39msilent,\n\u001B[1;32m    453\u001B[0m         cell_id\u001B[38;5;241m=\u001B[39mcell_id,\n\u001B[1;32m    454\u001B[0m     )\n\u001B[1;32m    455\u001B[0m \u001B[38;5;28;01melse\u001B[39;00m:\n",
      "File \u001B[0;32m~/Documents/GitHub/Jax-QML/.venv/lib/python3.12/site-packages/ipykernel/zmqshell.py:549\u001B[0m, in \u001B[0;36mrun_cell\u001B[0;34m()\u001B[0m\n\u001B[1;32m    548\u001B[0m \u001B[38;5;28mself\u001B[39m\u001B[38;5;241m.\u001B[39m_last_traceback \u001B[38;5;241m=\u001B[39m \u001B[38;5;28;01mNone\u001B[39;00m\n\u001B[0;32m--> 549\u001B[0m \u001B[38;5;28;01mreturn\u001B[39;00m \u001B[38;5;28msuper\u001B[39m()\u001B[38;5;241m.\u001B[39mrun_cell(\u001B[38;5;241m*\u001B[39margs, \u001B[38;5;241m*\u001B[39m\u001B[38;5;241m*\u001B[39mkwargs)\n",
      "File \u001B[0;32m~/Documents/GitHub/Jax-QML/.venv/lib/python3.12/site-packages/IPython/core/interactiveshell.py:3077\u001B[0m, in \u001B[0;36mrun_cell\u001B[0;34m()\u001B[0m\n\u001B[1;32m   3076\u001B[0m \u001B[38;5;28;01mtry\u001B[39;00m:\n\u001B[0;32m-> 3077\u001B[0m     result \u001B[38;5;241m=\u001B[39m \u001B[38;5;28mself\u001B[39m\u001B[38;5;241m.\u001B[39m_run_cell(\n\u001B[1;32m   3078\u001B[0m         raw_cell, store_history, silent, shell_futures, cell_id\n\u001B[1;32m   3079\u001B[0m     )\n\u001B[1;32m   3080\u001B[0m \u001B[38;5;28;01mfinally\u001B[39;00m:\n",
      "File \u001B[0;32m~/Documents/GitHub/Jax-QML/.venv/lib/python3.12/site-packages/IPython/core/interactiveshell.py:3132\u001B[0m, in \u001B[0;36m_run_cell\u001B[0;34m()\u001B[0m\n\u001B[1;32m   3131\u001B[0m \u001B[38;5;28;01mtry\u001B[39;00m:\n\u001B[0;32m-> 3132\u001B[0m     result \u001B[38;5;241m=\u001B[39m runner(coro)\n\u001B[1;32m   3133\u001B[0m \u001B[38;5;28;01mexcept\u001B[39;00m \u001B[38;5;167;01mBaseException\u001B[39;00m \u001B[38;5;28;01mas\u001B[39;00m e:\n",
      "File \u001B[0;32m~/Documents/GitHub/Jax-QML/.venv/lib/python3.12/site-packages/IPython/core/async_helpers.py:128\u001B[0m, in \u001B[0;36m_pseudo_sync_runner\u001B[0;34m()\u001B[0m\n\u001B[1;32m    127\u001B[0m \u001B[38;5;28;01mtry\u001B[39;00m:\n\u001B[0;32m--> 128\u001B[0m     coro\u001B[38;5;241m.\u001B[39msend(\u001B[38;5;28;01mNone\u001B[39;00m)\n\u001B[1;32m    129\u001B[0m \u001B[38;5;28;01mexcept\u001B[39;00m \u001B[38;5;167;01mStopIteration\u001B[39;00m \u001B[38;5;28;01mas\u001B[39;00m exc:\n",
      "File \u001B[0;32m~/Documents/GitHub/Jax-QML/.venv/lib/python3.12/site-packages/IPython/core/interactiveshell.py:3336\u001B[0m, in \u001B[0;36mrun_cell_async\u001B[0;34m()\u001B[0m\n\u001B[1;32m   3333\u001B[0m interactivity \u001B[38;5;241m=\u001B[39m \u001B[38;5;124m\"\u001B[39m\u001B[38;5;124mnone\u001B[39m\u001B[38;5;124m\"\u001B[39m \u001B[38;5;28;01mif\u001B[39;00m silent \u001B[38;5;28;01melse\u001B[39;00m \u001B[38;5;28mself\u001B[39m\u001B[38;5;241m.\u001B[39mast_node_interactivity\n\u001B[0;32m-> 3336\u001B[0m has_raised \u001B[38;5;241m=\u001B[39m \u001B[38;5;28;01mawait\u001B[39;00m \u001B[38;5;28mself\u001B[39m\u001B[38;5;241m.\u001B[39mrun_ast_nodes(code_ast\u001B[38;5;241m.\u001B[39mbody, cell_name,\n\u001B[1;32m   3337\u001B[0m        interactivity\u001B[38;5;241m=\u001B[39minteractivity, compiler\u001B[38;5;241m=\u001B[39mcompiler, result\u001B[38;5;241m=\u001B[39mresult)\n\u001B[1;32m   3339\u001B[0m \u001B[38;5;28mself\u001B[39m\u001B[38;5;241m.\u001B[39mlast_execution_succeeded \u001B[38;5;241m=\u001B[39m \u001B[38;5;129;01mnot\u001B[39;00m has_raised\n",
      "File \u001B[0;32m~/Documents/GitHub/Jax-QML/.venv/lib/python3.12/site-packages/IPython/core/interactiveshell.py:3519\u001B[0m, in \u001B[0;36mrun_ast_nodes\u001B[0;34m()\u001B[0m\n\u001B[1;32m   3518\u001B[0m     asy \u001B[38;5;241m=\u001B[39m compare(code)\n\u001B[0;32m-> 3519\u001B[0m \u001B[38;5;28;01mif\u001B[39;00m \u001B[38;5;28;01mawait\u001B[39;00m \u001B[38;5;28mself\u001B[39m\u001B[38;5;241m.\u001B[39mrun_code(code, result, async_\u001B[38;5;241m=\u001B[39masy):\n\u001B[1;32m   3520\u001B[0m     \u001B[38;5;28;01mreturn\u001B[39;00m \u001B[38;5;28;01mTrue\u001B[39;00m\n",
      "File \u001B[0;32m~/Documents/GitHub/Jax-QML/.venv/lib/python3.12/site-packages/IPython/core/interactiveshell.py:3579\u001B[0m, in \u001B[0;36mrun_code\u001B[0;34m()\u001B[0m\n\u001B[1;32m   3578\u001B[0m     \u001B[38;5;28;01melse\u001B[39;00m:\n\u001B[0;32m-> 3579\u001B[0m         exec(code_obj, \u001B[38;5;28mself\u001B[39m\u001B[38;5;241m.\u001B[39muser_global_ns, \u001B[38;5;28mself\u001B[39m\u001B[38;5;241m.\u001B[39muser_ns)\n\u001B[1;32m   3580\u001B[0m \u001B[38;5;28;01mfinally\u001B[39;00m:\n\u001B[1;32m   3581\u001B[0m     \u001B[38;5;66;03m# Reset our crash handler in place\u001B[39;00m\n",
      "Cell \u001B[0;32mIn[9], line 3\u001B[0m\n\u001B[1;32m      2\u001B[0m key \u001B[38;5;241m=\u001B[39m jrand\u001B[38;5;241m.\u001B[39mPRNGKey(\u001B[38;5;241m42\u001B[39m)\n\u001B[0;32m----> 3\u001B[0m params \u001B[38;5;241m=\u001B[39m dqc\u001B[38;5;241m.\u001B[39minit(key, zero_image)\n",
      "Cell \u001B[0;32mIn[6], line 16\u001B[0m, in \u001B[0;36m__call__\u001B[0;34m()\u001B[0m\n\u001B[1;32m     15\u001B[0m x \u001B[38;5;241m=\u001B[39m jnp\u001B[38;5;241m.\u001B[39mtanh(x) \u001B[38;5;241m*\u001B[39m jnp\u001B[38;5;241m.\u001B[39mpi \u001B[38;5;241m/\u001B[39m \u001B[38;5;241m2\u001B[39m\n\u001B[0;32m---> 16\u001B[0m x \u001B[38;5;241m=\u001B[39m QuantumCircuit(\n\u001B[1;32m     17\u001B[0m     num_qubits\u001B[38;5;241m=\u001B[39m\u001B[38;5;28mself\u001B[39m\u001B[38;5;241m.\u001B[39mnum_qubits,\n\u001B[1;32m     18\u001B[0m     num_layers\u001B[38;5;241m=\u001B[39m\u001B[38;5;28mself\u001B[39m\u001B[38;5;241m.\u001B[39mnum_layers,\n\u001B[1;32m     19\u001B[0m     circuit\u001B[38;5;241m=\u001B[39m\u001B[38;5;28mself\u001B[39m\u001B[38;5;241m.\u001B[39mcircuit,\n\u001B[1;32m     20\u001B[0m )(x)\n\u001B[1;32m     21\u001B[0m x \u001B[38;5;241m=\u001B[39m nn\u001B[38;5;241m.\u001B[39mDense(features\u001B[38;5;241m=\u001B[39m\u001B[38;5;28mself\u001B[39m\u001B[38;5;241m.\u001B[39mnum_labels)(x)\n",
      "Cell \u001B[0;32mIn[5], line 13\u001B[0m, in \u001B[0;36m__call__\u001B[0;34m()\u001B[0m\n\u001B[1;32m      8\u001B[0m circuit_weights \u001B[38;5;241m=\u001B[39m \u001B[38;5;28mself\u001B[39m\u001B[38;5;241m.\u001B[39mparam(\n\u001B[1;32m      9\u001B[0m     \u001B[38;5;124m'\u001B[39m\u001B[38;5;124mcircuit_weights\u001B[39m\u001B[38;5;124m'\u001B[39m,\n\u001B[1;32m     10\u001B[0m     nn\u001B[38;5;241m.\u001B[39minitializers\u001B[38;5;241m.\u001B[39mnormal(),\n\u001B[1;32m     11\u001B[0m     (\u001B[38;5;28mself\u001B[39m\u001B[38;5;241m.\u001B[39mnum_layers, \u001B[38;5;28mself\u001B[39m\u001B[38;5;241m.\u001B[39mnum_qubits, \u001B[38;5;241m3\u001B[39m),\n\u001B[1;32m     12\u001B[0m )\n\u001B[0;32m---> 13\u001B[0m x \u001B[38;5;241m=\u001B[39m \u001B[38;5;28mself\u001B[39m\u001B[38;5;241m.\u001B[39mcircuit(x, circuit_weights)\n\u001B[1;32m     14\u001B[0m x \u001B[38;5;241m=\u001B[39m jnp\u001B[38;5;241m.\u001B[39marray(x)\u001B[38;5;241m.\u001B[39mT\n",
      "File \u001B[0;32m~/Documents/GitHub/Jax-QML/.venv/lib/python3.12/site-packages/pennylane/workflow/qnode.py:905\u001B[0m, in \u001B[0;36m__call__\u001B[0;34m()\u001B[0m\n\u001B[1;32m    904\u001B[0m     \u001B[38;5;28;01mreturn\u001B[39;00m capture_qnode(\u001B[38;5;28mself\u001B[39m, \u001B[38;5;241m*\u001B[39margs, \u001B[38;5;241m*\u001B[39m\u001B[38;5;241m*\u001B[39mkwargs)\n\u001B[0;32m--> 905\u001B[0m \u001B[38;5;28;01mreturn\u001B[39;00m \u001B[38;5;28mself\u001B[39m\u001B[38;5;241m.\u001B[39m_impl_call(\u001B[38;5;241m*\u001B[39margs, \u001B[38;5;241m*\u001B[39m\u001B[38;5;241m*\u001B[39mkwargs)\n",
      "File \u001B[0;32m~/Documents/GitHub/Jax-QML/.venv/lib/python3.12/site-packages/pennylane/workflow/qnode.py:881\u001B[0m, in \u001B[0;36m_impl_call\u001B[0;34m()\u001B[0m\n\u001B[1;32m    879\u001B[0m \u001B[38;5;28mself\u001B[39m\u001B[38;5;241m.\u001B[39m_transform_program\u001B[38;5;241m.\u001B[39mset_classical_component(\u001B[38;5;28mself\u001B[39m, args, kwargs)\n\u001B[0;32m--> 881\u001B[0m res \u001B[38;5;241m=\u001B[39m qml\u001B[38;5;241m.\u001B[39mexecute(\n\u001B[1;32m    882\u001B[0m     (tape,),\n\u001B[1;32m    883\u001B[0m     device\u001B[38;5;241m=\u001B[39m\u001B[38;5;28mself\u001B[39m\u001B[38;5;241m.\u001B[39mdevice,\n\u001B[1;32m    884\u001B[0m     diff_method\u001B[38;5;241m=\u001B[39m\u001B[38;5;28mself\u001B[39m\u001B[38;5;241m.\u001B[39mdiff_method,\n\u001B[1;32m    885\u001B[0m     interface\u001B[38;5;241m=\u001B[39minterface,\n\u001B[1;32m    886\u001B[0m     transform_program\u001B[38;5;241m=\u001B[39m\u001B[38;5;28mself\u001B[39m\u001B[38;5;241m.\u001B[39m_transform_program,\n\u001B[1;32m    887\u001B[0m     gradient_kwargs\u001B[38;5;241m=\u001B[39m\u001B[38;5;28mself\u001B[39m\u001B[38;5;241m.\u001B[39mgradient_kwargs,\n\u001B[1;32m    888\u001B[0m     \u001B[38;5;241m*\u001B[39m\u001B[38;5;241m*\u001B[39m\u001B[38;5;28mself\u001B[39m\u001B[38;5;241m.\u001B[39mexecute_kwargs,\n\u001B[1;32m    889\u001B[0m )\n\u001B[1;32m    890\u001B[0m res \u001B[38;5;241m=\u001B[39m res[\u001B[38;5;241m0\u001B[39m]\n",
      "File \u001B[0;32m~/Documents/GitHub/Jax-QML/.venv/lib/python3.12/site-packages/pennylane/workflow/execution.py:232\u001B[0m, in \u001B[0;36mexecute\u001B[0;34m()\u001B[0m\n\u001B[1;32m    230\u001B[0m     \u001B[38;5;28;01mreturn\u001B[39;00m post_processing(tapes)\n\u001B[0;32m--> 232\u001B[0m results \u001B[38;5;241m=\u001B[39m run(tapes, device, config, inner_transform)\n\u001B[1;32m    233\u001B[0m \u001B[38;5;28;01mreturn\u001B[39;00m post_processing(results)\n",
      "File \u001B[0;32m~/Documents/GitHub/Jax-QML/.venv/lib/python3.12/site-packages/pennylane/workflow/run.py:333\u001B[0m, in \u001B[0;36mrun\u001B[0;34m()\u001B[0m\n\u001B[1;32m    331\u001B[0m         tape\u001B[38;5;241m.\u001B[39mtrainable_params \u001B[38;5;241m=\u001B[39m qml\u001B[38;5;241m.\u001B[39mmath\u001B[38;5;241m.\u001B[39mget_trainable_indices(params)\n\u001B[0;32m--> 333\u001B[0m results \u001B[38;5;241m=\u001B[39m ml_execute(tapes, execute_fn, jpc, device\u001B[38;5;241m=\u001B[39mdevice)\n\u001B[1;32m    334\u001B[0m \u001B[38;5;28;01mreturn\u001B[39;00m results\n",
      "File \u001B[0;32m~/Documents/GitHub/Jax-QML/.venv/lib/python3.12/site-packages/pennylane/workflow/interfaces/jax_jit.py:261\u001B[0m, in \u001B[0;36mjax_jit_jvp_execute\u001B[0;34m()\u001B[0m\n\u001B[1;32m    259\u001B[0m parameters \u001B[38;5;241m=\u001B[39m \u001B[38;5;28mtuple\u001B[39m(\u001B[38;5;28mtuple\u001B[39m(t\u001B[38;5;241m.\u001B[39mget_parameters(trainable_only\u001B[38;5;241m=\u001B[39m\u001B[38;5;28;01mFalse\u001B[39;00m)) \u001B[38;5;28;01mfor\u001B[39;00m t \u001B[38;5;129;01min\u001B[39;00m tapes)\n\u001B[0;32m--> 261\u001B[0m \u001B[38;5;28;01mreturn\u001B[39;00m _execute_jvp_jit(parameters, _NonPytreeWrapper(\u001B[38;5;28mtuple\u001B[39m(tapes)), execute_fn, jpc, device)\n",
      "File \u001B[0;32m~/Documents/GitHub/Jax-QML/.venv/lib/python3.12/site-packages/pennylane/workflow/interfaces/jax_jit.py:175\u001B[0m, in \u001B[0;36m_execute_wrapper_inner\u001B[0;34m()\u001B[0m\n\u001B[1;32m    172\u001B[0m device_supports_vectorization \u001B[38;5;241m=\u001B[39m (\n\u001B[1;32m    173\u001B[0m     qml\u001B[38;5;241m.\u001B[39mtransforms\u001B[38;5;241m.\u001B[39mbroadcast_expand \u001B[38;5;129;01mnot\u001B[39;00m \u001B[38;5;129;01min\u001B[39;00m device\u001B[38;5;241m.\u001B[39mpreprocess_transforms()\n\u001B[1;32m    174\u001B[0m )\n\u001B[0;32m--> 175\u001B[0m out \u001B[38;5;241m=\u001B[39m jax\u001B[38;5;241m.\u001B[39mpure_callback(\n\u001B[1;32m    176\u001B[0m     pure_callback_wrapper, shape_dtype_structs, params, vectorized\u001B[38;5;241m=\u001B[39mdevice_supports_vectorization\n\u001B[1;32m    177\u001B[0m )\n\u001B[1;32m    178\u001B[0m \u001B[38;5;28;01mreturn\u001B[39;00m out\n",
      "File \u001B[0;32m~/Documents/GitHub/Jax-QML/.venv/lib/python3.12/site-packages/jax/_src/callback.py:468\u001B[0m, in \u001B[0;36mpure_callback\u001B[0;34m()\u001B[0m\n\u001B[1;32m    467\u001B[0m flat_result_avals, out_tree \u001B[38;5;241m=\u001B[39m tree_util\u001B[38;5;241m.\u001B[39mtree_flatten(result_avals)\n\u001B[0;32m--> 468\u001B[0m out_flat \u001B[38;5;241m=\u001B[39m pure_callback_p\u001B[38;5;241m.\u001B[39mbind(\n\u001B[1;32m    469\u001B[0m     \u001B[38;5;241m*\u001B[39mflat_args,\n\u001B[1;32m    470\u001B[0m     callback\u001B[38;5;241m=\u001B[39m_FlatCallback(callback, in_tree),\n\u001B[1;32m    471\u001B[0m     result_avals\u001B[38;5;241m=\u001B[39m\u001B[38;5;28mtuple\u001B[39m(flat_result_avals),\n\u001B[1;32m    472\u001B[0m     sharding\u001B[38;5;241m=\u001B[39msharding,\n\u001B[1;32m    473\u001B[0m     vectorized\u001B[38;5;241m=\u001B[39mvectorized,\n\u001B[1;32m    474\u001B[0m     vmap_method\u001B[38;5;241m=\u001B[39mvmap_method,\n\u001B[1;32m    475\u001B[0m )\n\u001B[1;32m    476\u001B[0m \u001B[38;5;28;01mreturn\u001B[39;00m tree_util\u001B[38;5;241m.\u001B[39mtree_unflatten(out_tree, out_flat)\n",
      "File \u001B[0;32m~/Documents/GitHub/Jax-QML/.venv/lib/python3.12/site-packages/jax/_src/callback.py:215\u001B[0m, in \u001B[0;36mcallback_batching_rule\u001B[0;34m()\u001B[0m\n\u001B[1;32m    208\u001B[0m     \u001B[38;5;28;01mreturn\u001B[39;00m prim\u001B[38;5;241m.\u001B[39mbind(\n\u001B[1;32m    209\u001B[0m         \u001B[38;5;241m*\u001B[39mmerged_args,\n\u001B[1;32m    210\u001B[0m         result_avals\u001B[38;5;241m=\u001B[39mresult_avals,\n\u001B[0;32m   (...)\u001B[0m\n\u001B[1;32m    213\u001B[0m         \u001B[38;5;241m*\u001B[39m\u001B[38;5;241m*\u001B[39mkwargs,\n\u001B[1;32m    214\u001B[0m     )\n\u001B[0;32m--> 215\u001B[0m   outvals \u001B[38;5;241m=\u001B[39m lax_map(_batch_fun, batched_args)\n\u001B[1;32m    216\u001B[0m \u001B[38;5;28;01melse\u001B[39;00m:\n",
      "File \u001B[0;32m~/Documents/GitHub/Jax-QML/.venv/lib/python3.12/site-packages/jax/_src/callback.py:208\u001B[0m, in \u001B[0;36m_batch_fun\u001B[0;34m()\u001B[0m\n\u001B[1;32m    207\u001B[0m merged_args \u001B[38;5;241m=\u001B[39m util\u001B[38;5;241m.\u001B[39mmerge_lists(is_batched, unbatched_args, batched_args)\n\u001B[0;32m--> 208\u001B[0m \u001B[38;5;28;01mreturn\u001B[39;00m prim\u001B[38;5;241m.\u001B[39mbind(\n\u001B[1;32m    209\u001B[0m     \u001B[38;5;241m*\u001B[39mmerged_args,\n\u001B[1;32m    210\u001B[0m     result_avals\u001B[38;5;241m=\u001B[39mresult_avals,\n\u001B[1;32m    211\u001B[0m     vectorized\u001B[38;5;241m=\u001B[39mvectorized,\n\u001B[1;32m    212\u001B[0m     vmap_method\u001B[38;5;241m=\u001B[39mvmap_method,\n\u001B[1;32m    213\u001B[0m     \u001B[38;5;241m*\u001B[39m\u001B[38;5;241m*\u001B[39mkwargs,\n\u001B[1;32m    214\u001B[0m )\n",
      "\u001B[0;31mJaxStackTraceBeforeTransformation\u001B[0m: ValueError: `EmitPythonCallback` not supported on METAL backend.\n\nThe preceding stack trace is the source of the JAX operation that, once transformed by JAX, triggered the following exception.\n\n--------------------",
      "\nThe above exception was the direct cause of the following exception:\n",
      "\u001B[0;31mValueError\u001B[0m                                Traceback (most recent call last)",
      "Cell \u001B[0;32mIn[9], line 3\u001B[0m\n\u001B[1;32m      1\u001B[0m zero_image \u001B[38;5;241m=\u001B[39m jnp\u001B[38;5;241m.\u001B[39mempty((\u001B[38;5;241m1\u001B[39m, \u001B[38;5;241m224\u001B[39m, \u001B[38;5;241m224\u001B[39m, \u001B[38;5;241m3\u001B[39m))\n\u001B[1;32m      2\u001B[0m key \u001B[38;5;241m=\u001B[39m jrand\u001B[38;5;241m.\u001B[39mPRNGKey(\u001B[38;5;241m42\u001B[39m)\n\u001B[0;32m----> 3\u001B[0m params \u001B[38;5;241m=\u001B[39m \u001B[43mdqc\u001B[49m\u001B[38;5;241;43m.\u001B[39;49m\u001B[43minit\u001B[49m\u001B[43m(\u001B[49m\u001B[43mkey\u001B[49m\u001B[43m,\u001B[49m\u001B[43m \u001B[49m\u001B[43mzero_image\u001B[49m\u001B[43m)\u001B[49m\n",
      "    \u001B[0;31m[... skipping hidden 9 frame]\u001B[0m\n",
      "Cell \u001B[0;32mIn[6], line 16\u001B[0m, in \u001B[0;36mDressedQuantumClassifier.__call__\u001B[0;34m(self, x)\u001B[0m\n\u001B[1;32m     14\u001B[0m \u001B[38;5;66;03m# rescale inputs\u001B[39;00m\n\u001B[1;32m     15\u001B[0m x \u001B[38;5;241m=\u001B[39m jnp\u001B[38;5;241m.\u001B[39mtanh(x) \u001B[38;5;241m*\u001B[39m jnp\u001B[38;5;241m.\u001B[39mpi \u001B[38;5;241m/\u001B[39m \u001B[38;5;241m2\u001B[39m\n\u001B[0;32m---> 16\u001B[0m x \u001B[38;5;241m=\u001B[39m \u001B[43mQuantumCircuit\u001B[49m\u001B[43m(\u001B[49m\n\u001B[1;32m     17\u001B[0m \u001B[43m    \u001B[49m\u001B[43mnum_qubits\u001B[49m\u001B[38;5;241;43m=\u001B[39;49m\u001B[38;5;28;43mself\u001B[39;49m\u001B[38;5;241;43m.\u001B[39;49m\u001B[43mnum_qubits\u001B[49m\u001B[43m,\u001B[49m\n\u001B[1;32m     18\u001B[0m \u001B[43m    \u001B[49m\u001B[43mnum_layers\u001B[49m\u001B[38;5;241;43m=\u001B[39;49m\u001B[38;5;28;43mself\u001B[39;49m\u001B[38;5;241;43m.\u001B[39;49m\u001B[43mnum_layers\u001B[49m\u001B[43m,\u001B[49m\n\u001B[1;32m     19\u001B[0m \u001B[43m    \u001B[49m\u001B[43mcircuit\u001B[49m\u001B[38;5;241;43m=\u001B[39;49m\u001B[38;5;28;43mself\u001B[39;49m\u001B[38;5;241;43m.\u001B[39;49m\u001B[43mcircuit\u001B[49m\u001B[43m,\u001B[49m\n\u001B[1;32m     20\u001B[0m \u001B[43m\u001B[49m\u001B[43m)\u001B[49m\u001B[43m(\u001B[49m\u001B[43mx\u001B[49m\u001B[43m)\u001B[49m\n\u001B[1;32m     21\u001B[0m x \u001B[38;5;241m=\u001B[39m nn\u001B[38;5;241m.\u001B[39mDense(features\u001B[38;5;241m=\u001B[39m\u001B[38;5;28mself\u001B[39m\u001B[38;5;241m.\u001B[39mnum_labels)(x)\n\u001B[1;32m     22\u001B[0m \u001B[38;5;28;01mreturn\u001B[39;00m x\n",
      "    \u001B[0;31m[... skipping hidden 2 frame]\u001B[0m\n",
      "Cell \u001B[0;32mIn[5], line 13\u001B[0m, in \u001B[0;36mQuantumCircuit.__call__\u001B[0;34m(self, x)\u001B[0m\n\u001B[1;32m      6\u001B[0m \u001B[38;5;129m@nn\u001B[39m\u001B[38;5;241m.\u001B[39mcompact\n\u001B[1;32m      7\u001B[0m \u001B[38;5;28;01mdef\u001B[39;00m\u001B[38;5;250m \u001B[39m\u001B[38;5;21m__call__\u001B[39m(\u001B[38;5;28mself\u001B[39m, x):\n\u001B[1;32m      8\u001B[0m     circuit_weights \u001B[38;5;241m=\u001B[39m \u001B[38;5;28mself\u001B[39m\u001B[38;5;241m.\u001B[39mparam(\n\u001B[1;32m      9\u001B[0m         \u001B[38;5;124m'\u001B[39m\u001B[38;5;124mcircuit_weights\u001B[39m\u001B[38;5;124m'\u001B[39m,\n\u001B[1;32m     10\u001B[0m         nn\u001B[38;5;241m.\u001B[39minitializers\u001B[38;5;241m.\u001B[39mnormal(),\n\u001B[1;32m     11\u001B[0m         (\u001B[38;5;28mself\u001B[39m\u001B[38;5;241m.\u001B[39mnum_layers, \u001B[38;5;28mself\u001B[39m\u001B[38;5;241m.\u001B[39mnum_qubits, \u001B[38;5;241m3\u001B[39m),\n\u001B[1;32m     12\u001B[0m     )\n\u001B[0;32m---> 13\u001B[0m     x \u001B[38;5;241m=\u001B[39m \u001B[38;5;28;43mself\u001B[39;49m\u001B[38;5;241;43m.\u001B[39;49m\u001B[43mcircuit\u001B[49m\u001B[43m(\u001B[49m\u001B[43mx\u001B[49m\u001B[43m,\u001B[49m\u001B[43m \u001B[49m\u001B[43mcircuit_weights\u001B[49m\u001B[43m)\u001B[49m\n\u001B[1;32m     14\u001B[0m     x \u001B[38;5;241m=\u001B[39m jnp\u001B[38;5;241m.\u001B[39marray(x)\u001B[38;5;241m.\u001B[39mT\n\u001B[1;32m     15\u001B[0m     \u001B[38;5;28;01mreturn\u001B[39;00m x\n",
      "    \u001B[0;31m[... skipping hidden 29 frame]\u001B[0m\n",
      "File \u001B[0;32m~/Documents/GitHub/Jax-QML/.venv/lib/python3.12/site-packages/jax/_src/callback.py:316\u001B[0m, in \u001B[0;36mpure_callback_lowering\u001B[0;34m(ctx, callback, sharding, *args, **params)\u001B[0m\n\u001B[1;32m    305\u001B[0m   \u001B[38;5;28;01mreturn\u001B[39;00m \u001B[38;5;28mtuple\u001B[39m(\n\u001B[1;32m    306\u001B[0m       pure_callback_impl(\n\u001B[1;32m    307\u001B[0m           \u001B[38;5;241m*\u001B[39mflat_args,\n\u001B[0;32m   (...)\u001B[0m\n\u001B[1;32m    311\u001B[0m       )\n\u001B[1;32m    312\u001B[0m   )\n\u001B[1;32m    314\u001B[0m op_sharding \u001B[38;5;241m=\u001B[39m _callback_op_sharding(\n\u001B[1;32m    315\u001B[0m     ctx\u001B[38;5;241m.\u001B[39mmodule_context\u001B[38;5;241m.\u001B[39maxis_context, sharding, ctx\u001B[38;5;241m.\u001B[39mavals_out)\n\u001B[0;32m--> 316\u001B[0m result, _, _ \u001B[38;5;241m=\u001B[39m \u001B[43mmlir\u001B[49m\u001B[38;5;241;43m.\u001B[39;49m\u001B[43memit_python_callback\u001B[49m\u001B[43m(\u001B[49m\n\u001B[1;32m    317\u001B[0m \u001B[43m    \u001B[49m\u001B[43mctx\u001B[49m\u001B[43m,\u001B[49m\n\u001B[1;32m    318\u001B[0m \u001B[43m    \u001B[49m\u001B[43m_callback\u001B[49m\u001B[43m,\u001B[49m\n\u001B[1;32m    319\u001B[0m \u001B[43m    \u001B[49m\u001B[38;5;28;43;01mNone\u001B[39;49;00m\u001B[43m,\u001B[49m\n\u001B[1;32m    320\u001B[0m \u001B[43m    \u001B[49m\u001B[38;5;28;43mlist\u001B[39;49m\u001B[43m(\u001B[49m\u001B[43margs\u001B[49m\u001B[43m)\u001B[49m\u001B[43m,\u001B[49m\n\u001B[1;32m    321\u001B[0m \u001B[43m    \u001B[49m\u001B[43mctx\u001B[49m\u001B[38;5;241;43m.\u001B[39;49m\u001B[43mavals_in\u001B[49m\u001B[43m,\u001B[49m\n\u001B[1;32m    322\u001B[0m \u001B[43m    \u001B[49m\u001B[43mctx\u001B[49m\u001B[38;5;241;43m.\u001B[39;49m\u001B[43mavals_out\u001B[49m\u001B[43m,\u001B[49m\n\u001B[1;32m    323\u001B[0m \u001B[43m    \u001B[49m\u001B[43mhas_side_effect\u001B[49m\u001B[38;5;241;43m=\u001B[39;49m\u001B[38;5;28;43;01mFalse\u001B[39;49;00m\u001B[43m,\u001B[49m\n\u001B[1;32m    324\u001B[0m \u001B[43m    \u001B[49m\u001B[43msharding\u001B[49m\u001B[38;5;241;43m=\u001B[39;49m\u001B[43mop_sharding\u001B[49m\u001B[43m,\u001B[49m\n\u001B[1;32m    325\u001B[0m \u001B[43m\u001B[49m\u001B[43m)\u001B[49m\n\u001B[1;32m    326\u001B[0m \u001B[38;5;28;01mreturn\u001B[39;00m result\n",
      "File \u001B[0;32m~/Documents/GitHub/Jax-QML/.venv/lib/python3.12/site-packages/jax/_src/interpreters/mlir.py:2941\u001B[0m, in \u001B[0;36memit_python_callback\u001B[0;34m(ctx, callback, token, operands, operand_avals, result_avals, has_side_effect, sharding, operand_layouts, result_layouts)\u001B[0m\n\u001B[1;32m   2939\u001B[0m platform \u001B[38;5;241m=\u001B[39m ctx\u001B[38;5;241m.\u001B[39mmodule_context\u001B[38;5;241m.\u001B[39mplatforms[\u001B[38;5;241m0\u001B[39m]\n\u001B[1;32m   2940\u001B[0m \u001B[38;5;28;01mif\u001B[39;00m platform \u001B[38;5;129;01mnot\u001B[39;00m \u001B[38;5;129;01min\u001B[39;00m {\u001B[38;5;124m\"\u001B[39m\u001B[38;5;124mcpu\u001B[39m\u001B[38;5;124m\"\u001B[39m, \u001B[38;5;124m\"\u001B[39m\u001B[38;5;124mcuda\u001B[39m\u001B[38;5;124m\"\u001B[39m, \u001B[38;5;124m\"\u001B[39m\u001B[38;5;124mrocm\u001B[39m\u001B[38;5;124m\"\u001B[39m, \u001B[38;5;124m\"\u001B[39m\u001B[38;5;124mtpu\u001B[39m\u001B[38;5;124m\"\u001B[39m}:\n\u001B[0;32m-> 2941\u001B[0m   \u001B[38;5;28;01mraise\u001B[39;00m \u001B[38;5;167;01mValueError\u001B[39;00m(\n\u001B[1;32m   2942\u001B[0m       \u001B[38;5;124mf\u001B[39m\u001B[38;5;124m\"\u001B[39m\u001B[38;5;124m`EmitPythonCallback` not supported on \u001B[39m\u001B[38;5;132;01m{\u001B[39;00mplatform\u001B[38;5;132;01m}\u001B[39;00m\u001B[38;5;124m backend.\u001B[39m\u001B[38;5;124m\"\u001B[39m)\n\u001B[1;32m   2943\u001B[0m backend \u001B[38;5;241m=\u001B[39m ctx\u001B[38;5;241m.\u001B[39mmodule_context\u001B[38;5;241m.\u001B[39mget_backend()\n\u001B[1;32m   2944\u001B[0m result_shapes \u001B[38;5;241m=\u001B[39m util\u001B[38;5;241m.\u001B[39mflatten(\n\u001B[1;32m   2945\u001B[0m     [xla\u001B[38;5;241m.\u001B[39maval_to_xla_shapes(result_aval) \u001B[38;5;28;01mfor\u001B[39;00m result_aval \u001B[38;5;129;01min\u001B[39;00m result_avals])\n",
      "\u001B[0;31mValueError\u001B[0m: `EmitPythonCallback` not supported on METAL backend."
     ]
    }
   ],
   "execution_count": 9
  },
  {
   "metadata": {
    "ExecuteTime": {
     "end_time": "2025-02-04T13:20:51.670481Z",
     "start_time": "2025-02-04T13:11:36.326739Z"
    }
   },
   "cell_type": "code",
   "source": [
    "\n",
    "params['params']['backbone'] = resnet.params['params']\n",
    "params['batch_stats']['backbone'] = resnet.params['batch_stats']"
   ],
   "id": "e414fc92d082123f",
   "outputs": [],
   "execution_count": 28
  },
  {
   "metadata": {
    "ExecuteTime": {
     "end_time": "2025-02-04T13:20:51.676557Z",
     "start_time": "2025-02-04T13:11:36.607134Z"
    }
   },
   "cell_type": "code",
   "source": [
    "\n",
    "optimizer = optax.adam(LEARNING_RATE)\n",
    "train_step, loss_fn, predict, state = create_train_step(dqc, params, optimizer)"
   ],
   "id": "3968221807786d47",
   "outputs": [],
   "execution_count": 29
  },
  {
   "metadata": {
    "ExecuteTime": {
     "end_time": "2025-02-04T13:20:51.677516Z",
     "start_time": "2025-02-04T13:11:37.148464Z"
    }
   },
   "cell_type": "code",
   "source": "ds = load_dataset('mnist').with_format('jax')",
   "id": "83c6a91990e0fbaf",
   "outputs": [],
   "execution_count": 30
  },
  {
   "metadata": {
    "ExecuteTime": {
     "end_time": "2025-02-04T13:20:51.677694Z",
     "start_time": "2025-02-04T13:11:40.918143Z"
    }
   },
   "cell_type": "code",
   "source": [
    "@jax.vmap\n",
    "def grayscale_to_imagenet_format(x):\n",
    "    x /= 255\n",
    "    # resize to resnet size\n",
    "    x = jax.image.resize(x, (224, 224), method='nearest')\n",
    "    # copy grayscale channels to rgb\n",
    "    x = jnp.dstack([x] * 3)\n",
    "    # normalize to imagenet channels\n",
    "    x = (x - jnp.array((0.485, 0.456, 0.406))) / jnp.array((0.229, 0.224, 0.225))\n",
    "    return x"
   ],
   "id": "2032372fe5913338",
   "outputs": [],
   "execution_count": 31
  },
  {
   "metadata": {
    "ExecuteTime": {
     "end_time": "2025-02-04T13:20:51.678792Z",
     "start_time": "2025-02-04T13:11:41.139064Z"
    }
   },
   "cell_type": "code",
   "source": [
    "\n",
    "def train_loop(state, ds):\n",
    "    total_correct = 0\n",
    "    total_loss = 0\n",
    "    total_seen = 0\n",
    "    len_train = len(ds['train']) // BATCH_SIZE\n",
    "\n",
    "    # close progress bar when epoch is finished\n",
    "    with tqdm(ds['train'].iter(BATCH_SIZE), desc='train', leave=True, total=len_train) as pbar:\n",
    "        for batch in pbar:\n",
    "            x, y = batch['image'], batch['label']\n",
    "            x = grayscale_to_imagenet_format(x)\n",
    "\n",
    "            state, loss = train_step(state, x, y)\n",
    "            yhat = predict(state.params, x)\n",
    "\n",
    "            total_correct += int(sum(y == yhat))\n",
    "            total_loss += float(loss)\n",
    "            total_seen += len(yhat)\n",
    "\n",
    "            pbar.set_postfix({'Mean acc': float(total_correct / total_seen),\n",
    "                              'Mean loss': float(total_loss / total_seen)})\n",
    "            #break\n",
    "\n",
    "    return state # , float(total_loss / total_seen), float(total_correct / total_seen)"
   ],
   "id": "294b6938672a271f",
   "outputs": [],
   "execution_count": 32
  },
  {
   "metadata": {
    "ExecuteTime": {
     "end_time": "2025-02-04T13:20:51.679238Z",
     "start_time": "2025-02-04T13:11:41.362001Z"
    }
   },
   "cell_type": "code",
   "source": [
    "def test_loop(state, ds):\n",
    "    total_correct = 0\n",
    "    total_loss = 0\n",
    "    total_seen = 0\n",
    "    len_test = len(ds['test']) // BATCH_SIZE\n",
    "\n",
    "    # close progress bar when epoch is finished\n",
    "    with tqdm(ds['test'].iter(BATCH_SIZE), desc='test', leave=True, total=len_test) as pbar:\n",
    "        for batch in pbar:\n",
    "            x, y = batch['image'], batch['label']\n",
    "            x = grayscale_to_imagenet_format(x)\n",
    "\n",
    "            yhat = predict(state.params, x)\n",
    "            loss = loss_fn(state.params, x, y)\n",
    "\n",
    "            total_correct += int(sum(y == yhat))\n",
    "            total_loss += float(loss)\n",
    "            total_seen += len(yhat)\n",
    "\n",
    "            pbar.set_postfix({'Mean acc': float(total_correct / total_seen),\n",
    "                              'Mean loss': float(total_loss / total_seen)})\n",
    "            #break\n",
    "\n",
    "    # return float(total_loss / total_seen), float(total_correct / total_seen)"
   ],
   "id": "5b9dbaa30bedc363",
   "outputs": [],
   "execution_count": 33
  },
  {
   "metadata": {
    "ExecuteTime": {
     "end_time": "2025-02-04T13:20:51.679570Z",
     "start_time": "2025-02-04T13:11:41.586944Z"
    }
   },
   "cell_type": "code",
   "source": "test_loop(state, ds)",
   "id": "de302ec353879a06",
   "outputs": [],
   "execution_count": 34
  },
  {
   "metadata": {
    "ExecuteTime": {
     "end_time": "2025-02-04T13:20:51.679847Z",
     "start_time": "2025-02-04T13:11:41.813243Z"
    }
   },
   "cell_type": "code",
   "source": "state = train_loop(state, ds)",
   "id": "f6b71af68fdcba0a",
   "outputs": [
    {
     "name": "stderr",
     "output_type": "stream",
     "text": [
      "train:   0%|          | 0/3750 [00:00<?, ?it/s]"
     ]
    }
   ],
   "execution_count": null
  },
  {
   "metadata": {
    "ExecuteTime": {
     "end_time": "2025-02-04T13:20:51.680685Z",
     "start_time": "2025-02-04T12:52:19.546175Z"
    }
   },
   "cell_type": "code",
   "source": "test_loop(state, ds)",
   "id": "a34c8d32213d10c7",
   "outputs": [
    {
     "name": "stderr",
     "output_type": "stream",
     "text": [
      "test: 100%|██████████| 625/625 [08:21<00:00,  1.25it/s, Mean acc=0.985, Mean loss=0.0175]\n"
     ]
    }
   ],
   "execution_count": 18
  }
 ],
 "metadata": {
  "kernelspec": {
   "display_name": "Python 3",
   "language": "python",
   "name": "python3"
  },
  "language_info": {
   "codemirror_mode": {
    "name": "ipython",
    "version": 2
   },
   "file_extension": ".py",
   "mimetype": "text/x-python",
   "name": "python",
   "nbconvert_exporter": "python",
   "pygments_lexer": "ipython2",
   "version": "2.7.6"
  }
 },
 "nbformat": 4,
 "nbformat_minor": 5
}
