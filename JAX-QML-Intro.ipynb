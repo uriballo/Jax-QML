{
 "cells": [
  {
   "metadata": {},
   "cell_type": "markdown",
   "source": "# Introduction to JAX",
   "id": "d91201a4abad6b98"
  },
  {
   "metadata": {},
   "cell_type": "code",
   "outputs": [],
   "execution_count": null,
   "source": "",
   "id": "3538336c7ead3665"
  },
  {
   "metadata": {},
   "cell_type": "markdown",
   "source": "## Just-in-Time Compilation",
   "id": "650780edd9f2aba"
  },
  {
   "metadata": {},
   "cell_type": "code",
   "outputs": [],
   "execution_count": null,
   "source": "",
   "id": "464da6d077fd5d91"
  },
  {
   "metadata": {},
   "cell_type": "markdown",
   "source": "## Automatic Vectorization",
   "id": "d1acdf6a26d0fb70"
  },
  {
   "metadata": {},
   "cell_type": "code",
   "outputs": [],
   "execution_count": null,
   "source": "",
   "id": "958743fb18beab29"
  },
  {
   "metadata": {},
   "cell_type": "markdown",
   "source": "## Automatic Differentiation\n",
   "id": "e6bc38de5b287018"
  },
  {
   "metadata": {},
   "cell_type": "code",
   "outputs": [],
   "execution_count": null,
   "source": "",
   "id": "30637599b129bae"
  },
  {
   "metadata": {},
   "cell_type": "markdown",
   "source": "# Using JAX with Pennylane",
   "id": "1937669971e20993"
  },
  {
   "metadata": {},
   "cell_type": "code",
   "outputs": [],
   "execution_count": null,
   "source": "",
   "id": "4f6c06a2a2aa7a03"
  },
  {
   "metadata": {},
   "cell_type": "markdown",
   "source": "## Shots and Samples",
   "id": "70a5e30351cb3776"
  },
  {
   "metadata": {},
   "cell_type": "code",
   "outputs": [],
   "execution_count": null,
   "source": "",
   "id": "f3eef4965f5b92eb"
  }
 ],
 "metadata": {
  "kernelspec": {
   "display_name": "Python 3",
   "language": "python",
   "name": "python3"
  },
  "language_info": {
   "codemirror_mode": {
    "name": "ipython",
    "version": 2
   },
   "file_extension": ".py",
   "mimetype": "text/x-python",
   "name": "python",
   "nbconvert_exporter": "python",
   "pygments_lexer": "ipython2",
   "version": "2.7.6"
  }
 },
 "nbformat": 4,
 "nbformat_minor": 5
}
