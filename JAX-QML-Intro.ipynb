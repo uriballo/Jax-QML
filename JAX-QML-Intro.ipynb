{
 "cells": [
  {
   "metadata": {},
   "cell_type": "markdown",
   "source": [
    "remember to create a virtual environment and install the requirements:\n",
    "\n",
    "```\n",
    "python3 -m venv .venv\n",
    "source .venv/bin/activate\n",
    "pip install -r reqs.txt\n",
    "```"
   ],
   "id": "7fcb848c8cf6de1d"
  },
  {
   "metadata": {},
   "cell_type": "markdown",
   "source": "# Introduction to JAX",
   "id": "d91201a4abad6b98"
  },
  {
   "metadata": {},
   "cell_type": "markdown",
   "source": [
    "In short, JAX is an array-oriented numerical computing library that enables composable transformations. These include just-in-time (JIT) compilation, automatic vectorization and automatic differentiation. On top of that, since it leverages the XLA (Accelerated Linear Algebra)\n",
    "compiler it can run on CPUs, GPUs and TPUs natively."
   ],
   "id": "e5a5974f44de59b1"
  },
  {
   "metadata": {
    "ExecuteTime": {
     "end_time": "2025-02-10T07:56:45.108004Z",
     "start_time": "2025-02-10T07:56:39.668920Z"
    }
   },
   "cell_type": "code",
   "source": [
    "import jax\n",
    "import jax.numpy as jnp\n",
    "\n",
    "# Check available devices\n",
    "print(\"JAX devices:\", jax.devices())\n",
    "\n",
    "# Define a simple computation\n",
    "def compute(x):\n",
    "    return jnp.dot(x, x.T) + jnp.sum(x)\n",
    "\n",
    "# Create input data\n",
    "x = jnp.ones((3, 3))\n",
    "\n",
    "# Run on CPU\n",
    "cpu_result = jax.jit(compute, backend=\"cpu\")(x)\n",
    "print(\"Result on CPU:\", cpu_result)\n",
    "\n",
    "# Run on GPU (if available)\n",
    "if any(d.device_kind == \"GPU\" for d in jax.devices()):\n",
    "    gpu_result = jax.jit(compute, backend=\"gpu\")(x)\n",
    "    print(\"Result on GPU:\", gpu_result)\n",
    "\n",
    "# Run on TPU (if available)\n",
    "if any(d.device_kind == \"TPU\" for d in jax.devices()):\n",
    "    tpu_result = jax.jit(compute, backend=\"tpu\")(x)\n",
    "    print(\"Result on TPU:\", tpu_result)\n"
   ],
   "id": "3538336c7ead3665",
   "outputs": [
    {
     "name": "stdout",
     "output_type": "stream",
     "text": [
      "JAX devices: [CpuDevice(id=0)]\n",
      "Result on CPU: [[12. 12. 12.]\n",
      " [12. 12. 12.]\n",
      " [12. 12. 12.]]\n"
     ]
    }
   ],
   "execution_count": 1
  },
  {
   "metadata": {},
   "cell_type": "markdown",
   "source": "JAX has a powerful API for writing numerical code. It provides a very NumPy-inspired array interface, which can be used as a drop-in replacement for NumPy arrays. The most notable difference between \\texttt{numpy}, usually referred as \\texttt{np}, arrays and \\texttt{jax.numpy}, usually referred as \\texttt{jnp}, is that the latter are always immutable.",
   "id": "3ebe4ffe587e8bf0"
  },
  {
   "metadata": {
    "ExecuteTime": {
     "end_time": "2025-02-10T07:56:45.207563Z",
     "start_time": "2025-02-10T07:56:45.142768Z"
    }
   },
   "cell_type": "code",
   "source": [
    "import numpy as np\n",
    "import jax.numpy as jnp\n",
    "\n",
    "# Create a NumPy array\n",
    "np_array = np.array([1, 2, 3])\n",
    "print(\"Original NumPy array:\", np_array)\n",
    "np_array[0] = 10  # Mutating a NumPy array is allowed\n",
    "print(\"Modified NumPy array:\", np_array)\n",
    "\n",
    "# Create a JAX array\n",
    "jnp_array = jnp.array([1, 2, 3])\n",
    "\n",
    "try:\n",
    "    jnp_array[0] = 10  # Attempting to mutate a JAX array\n",
    "except TypeError as e:\n",
    "    print(\"\\t[!] JAX array mutation error:\", e)\n",
    "\n",
    "# Instead of mutating, we create a new array\n",
    "new_jnp_array = jnp_array.at[0].set(10)\n",
    "print(\"Original JAX array:\", jnp_array)\n",
    "print(\"New JAX array after modification:\", new_jnp_array)\n"
   ],
   "id": "4bbd41dbb85a3ca4",
   "outputs": [
    {
     "name": "stdout",
     "output_type": "stream",
     "text": [
      "Original NumPy array: [1 2 3]\n",
      "Modified NumPy array: [10  2  3]\n",
      "\t[!] JAX array mutation error: JAX arrays are immutable and do not support in-place item assignment. Instead of x[idx] = y, use x = x.at[idx].set(y) or another .at[] method: https://jax.readthedocs.io/en/latest/_autosummary/jax.numpy.ndarray.at.html\n",
      "Original JAX array: [1 2 3]\n",
      "New JAX array after modification: [10  2  3]\n"
     ]
    }
   ],
   "execution_count": 2
  },
  {
   "metadata": {},
   "cell_type": "markdown",
   "source": [
    "All JAX operations are implemented in terms of XLA operations. This means that whenever we use \\texttt{jnp} we will be using the accelerated linear algebra compiler. We have access to lower level operations, the ones used by \\texttt{jnp}, via \\texttt{jax.lax}. Which is more powerful, but stricter, lower level API.\n",
    "\n",
    "In essence, \\texttt{jnp} is a high level wrapper meant to be very similar to NumPy and \\texttt{jax.lax} contains the underlying low level operations. Here are two equivalent pieces of code:"
   ],
   "id": "5b5fd6b50507d5d3"
  },
  {
   "metadata": {
    "ExecuteTime": {
     "end_time": "2025-02-10T08:00:22.472786Z",
     "start_time": "2025-02-10T08:00:22.468187Z"
    }
   },
   "cell_type": "code",
   "source": [
    "import jax.numpy as jnp\n",
    "\n",
    "# Define input matrices\n",
    "A = jnp.array([[1, 2], [3, 4]])\n",
    "B = jnp.array([[5, 6], [7, 8]])\n",
    "\n",
    "# High-level matrix multiplication\n",
    "C = jnp.dot(A, B)\n",
    "print(\"High-level (jnp.dot) result:\\n\", C)"
   ],
   "id": "a99226e148b1dbd",
   "outputs": [
    {
     "name": "stdout",
     "output_type": "stream",
     "text": [
      "JAXpr for jnp.dot:\n",
      " { lambda ; a:i32[2,2] b:i32[2,2]. let\n",
      "    c:i32[2,2] = dot_general[\n",
      "      dimension_numbers=(([1], [0]), ([], []))\n",
      "      preferred_element_type=int32\n",
      "    ] a b\n",
      "  in (c,) }\n"
     ]
    }
   ],
   "execution_count": 7
  },
  {
   "metadata": {
    "ExecuteTime": {
     "end_time": "2025-02-10T08:03:46.516515Z",
     "start_time": "2025-02-10T08:03:46.512949Z"
    }
   },
   "cell_type": "code",
   "source": [
    "from jax import lax\n",
    "import jax.numpy as jnp\n",
    "\n",
    "# Define input matrices\n",
    "A = jnp.array([[1, 2], [3, 4]])\n",
    "B = jnp.array([[5, 6], [7, 8]])\n",
    "\n",
    "def low_level(x, y):\n",
    "    return lax.dot_general(\n",
    "        x, y,\n",
    "        dimension_numbers=(((1,), (0,)), ((), ()))  # Batch dimensions are empty\n",
    "    )\n",
    "\n",
    "print(\"Low-level (lax.dot_general) result:\\n\", low_level(A, B))"
   ],
   "id": "bc0d84699ca6e01a",
   "outputs": [
    {
     "name": "stdout",
     "output_type": "stream",
     "text": [
      "Low-level (lax.dot_general) result:\n",
      " [[19 22]\n",
      " [43 50]]\n"
     ]
    }
   ],
   "execution_count": 10
  },
  {
   "metadata": {},
   "cell_type": "markdown",
   "source": "We can use JAXEXPRs to see how these two translate to low-level code:",
   "id": "7a80436b7ef9a301"
  },
  {
   "metadata": {
    "ExecuteTime": {
     "end_time": "2025-02-10T08:03:14.890331Z",
     "start_time": "2025-02-10T08:03:14.887042Z"
    }
   },
   "cell_type": "code",
   "source": [
    "jaxpr_high_level = jax.make_jaxpr(high_level)(A, B)\n",
    "print(\"JAXpr for jnp.dot:\\n\", jaxpr_high_level)"
   ],
   "id": "566860decb7b2c02",
   "outputs": [
    {
     "name": "stdout",
     "output_type": "stream",
     "text": [
      "JAXpr for jnp.dot:\n",
      " { lambda ; a:i32[2,2] b:i32[2,2]. let\n",
      "    c:i32[2,2] = dot_general[\n",
      "      dimension_numbers=(([1], [0]), ([], []))\n",
      "      preferred_element_type=int32\n",
      "    ] a b\n",
      "  in (c,) }\n"
     ]
    }
   ],
   "execution_count": 8
  },
  {
   "metadata": {
    "ExecuteTime": {
     "end_time": "2025-02-10T08:03:48.713808Z",
     "start_time": "2025-02-10T08:03:48.709663Z"
    }
   },
   "cell_type": "code",
   "source": [
    "jaxpr_low_level = jax.make_jaxpr(low_level)(A, B)\n",
    "print(\"JAXpr for lax.dot_general:\\n\", jaxpr_low_level)"
   ],
   "id": "cf66d49279545526",
   "outputs": [
    {
     "name": "stdout",
     "output_type": "stream",
     "text": [
      "JAXpr for lax.dot_general:\n",
      " { lambda ; a:i32[2,2] b:i32[2,2]. let\n",
      "    c:i32[2,2] = dot_general[dimension_numbers=(([1], [0]), ([], []))] a b\n",
      "  in (c,) }\n"
     ]
    }
   ],
   "execution_count": 11
  },
  {
   "metadata": {},
   "cell_type": "markdown",
   "source": "JAX uses the concept of a tracer to be able to do transformations. Tracers are abstract placeholders for array objects that are passed to JAX functions to know the sequence of operations that a function encodes.\n",
   "id": "43014841ade47613"
  },
  {
   "metadata": {
    "ExecuteTime": {
     "end_time": "2025-02-10T09:08:04.672813Z",
     "start_time": "2025-02-10T09:08:04.644922Z"
    }
   },
   "cell_type": "code",
   "source": [
    "@jax.jit\n",
    "def f(x):\n",
    "  print(\"x = \", x)\n",
    "  return x + 1\n",
    "\n",
    "x = jnp.arange(5)\n",
    "y = f(x)\n",
    "print(\"f(x) = \", y)"
   ],
   "id": "67eac0fd0404125",
   "outputs": [
    {
     "name": "stdout",
     "output_type": "stream",
     "text": [
      "x =  Traced<ShapedArray(int32[5])>with<DynamicJaxprTrace>\n",
      "f(x) =  [1 2 3 4 5]\n"
     ]
    }
   ],
   "execution_count": 16
  },
  {
   "metadata": {},
   "cell_type": "markdown",
   "source": "The printed value is not the $x$ array, but rather a tracer instance that has the same shape and type. By executing the function with traced values, JAX can determine the sequence of operations encoded by the function before those operations are actually executed. This allows transformations to map this sequence of input operations to a transformed sequence of operations.",
   "id": "7c73849719e8885"
  },
  {
   "metadata": {},
   "cell_type": "markdown",
   "source": "## Just-in-Time Compilation",
   "id": "650780edd9f2aba"
  },
  {
   "metadata": {
    "ExecuteTime": {
     "end_time": "2025-02-10T07:56:45.300344Z",
     "start_time": "2025-02-10T07:56:45.299029Z"
    }
   },
   "cell_type": "code",
   "source": "",
   "id": "464da6d077fd5d91",
   "outputs": [],
   "execution_count": null
  },
  {
   "metadata": {},
   "cell_type": "markdown",
   "source": "## Automatic Vectorization",
   "id": "d1acdf6a26d0fb70"
  },
  {
   "metadata": {
    "ExecuteTime": {
     "end_time": "2025-02-10T07:56:45.305897Z",
     "start_time": "2025-02-10T07:56:45.304647Z"
    }
   },
   "cell_type": "code",
   "source": "",
   "id": "958743fb18beab29",
   "outputs": [],
   "execution_count": null
  },
  {
   "metadata": {},
   "cell_type": "markdown",
   "source": "## Automatic Differentiation\n",
   "id": "e6bc38de5b287018"
  },
  {
   "metadata": {
    "ExecuteTime": {
     "end_time": "2025-02-10T07:56:45.312957Z",
     "start_time": "2025-02-10T07:56:45.311713Z"
    }
   },
   "cell_type": "code",
   "source": "",
   "id": "30637599b129bae",
   "outputs": [],
   "execution_count": null
  },
  {
   "metadata": {},
   "cell_type": "markdown",
   "source": "# Using JAX with Pennylane",
   "id": "1937669971e20993"
  },
  {
   "metadata": {
    "ExecuteTime": {
     "end_time": "2025-02-10T07:56:45.320742Z",
     "start_time": "2025-02-10T07:56:45.319474Z"
    }
   },
   "cell_type": "code",
   "source": "",
   "id": "4f6c06a2a2aa7a03",
   "outputs": [],
   "execution_count": null
  },
  {
   "metadata": {},
   "cell_type": "markdown",
   "source": "## Shots and Samples",
   "id": "70a5e30351cb3776"
  },
  {
   "metadata": {
    "ExecuteTime": {
     "end_time": "2025-02-10T07:56:45.330508Z",
     "start_time": "2025-02-10T07:56:45.329385Z"
    }
   },
   "cell_type": "code",
   "source": "",
   "id": "f3eef4965f5b92eb",
   "outputs": [],
   "execution_count": null
  }
 ],
 "metadata": {
  "kernelspec": {
   "display_name": "Python 3",
   "language": "python",
   "name": "python3"
  },
  "language_info": {
   "codemirror_mode": {
    "name": "ipython",
    "version": 2
   },
   "file_extension": ".py",
   "mimetype": "text/x-python",
   "name": "python",
   "nbconvert_exporter": "python",
   "pygments_lexer": "ipython2",
   "version": "2.7.6"
  }
 },
 "nbformat": 4,
 "nbformat_minor": 5
}
