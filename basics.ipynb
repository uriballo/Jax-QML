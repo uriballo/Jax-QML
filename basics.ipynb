{
 "cells": [
  {
   "cell_type": "code",
   "execution_count": 1,
   "metadata": {},
   "outputs": [],
   "source": [
    "import numpy as np\n",
    "import jax \n",
    "from jax import jit\n",
    "from jax import numpy as jnp\n",
    "import pennylane as qml\n",
    "import time\n",
    "\n",
    "jax.config.update(\"jax_enable_x64\", True)\n",
    "\n",
    "n_qubits = 16\n",
    "dev = qml.device(\"default.qubit\", wires=n_qubits) # For some reason, lightning.qubit makes JIT much worse but the NO-JIT version faster."
   ]
  },
  {
   "cell_type": "markdown",
   "metadata": {},
   "source": [
    "# Just-in-Time Compilation"
   ]
  },
  {
   "cell_type": "code",
   "execution_count": 2,
   "metadata": {},
   "outputs": [],
   "source": [
    "@qml.qnode(dev, interface=\"jax\")\n",
    "def circuit(param):\n",
    "    for idx in range(n_qubits):\n",
    "        qml.RX(param, wires=idx)\n",
    "\n",
    "    for idx in range(n_qubits-1):\n",
    "        qml.CNOT(wires=[idx, idx+1])\n",
    "\n",
    "    qml.CNOT(wires=[n_qubits-1, 0])\n",
    "\n",
    "    return qml.expval(qml.PauliZ(0))\n",
    "\n",
    "jit_circuit = jax.jit(circuit)"
   ]
  },
  {
   "cell_type": "code",
   "execution_count": 3,
   "metadata": {},
   "outputs": [],
   "source": [
    "start = time.time()\n",
    "for _ in range(100):\n",
    "    circuit(0.123)\n",
    "no_jit_time = time.time() - start"
   ]
  },
  {
   "cell_type": "code",
   "execution_count": 4,
   "metadata": {},
   "outputs": [],
   "source": [
    "start = time.time()\n",
    "for _ in range(100):\n",
    "    jit_circuit(0.123)\n",
    "first_time = time.time() - start"
   ]
  },
  {
   "cell_type": "code",
   "execution_count": 5,
   "metadata": {},
   "outputs": [
    {
     "name": "stdout",
     "output_type": "stream",
     "text": [
      "Time to do 100 execugtions\n",
      "\tNo JIT: 3.44696403 seconds\n",
      "\t   JIT: 0.32424426 seconds\n"
     ]
    }
   ],
   "source": [
    "\n",
    "print(\"Time to do 100 execugtions\")\n",
    "print(f\"\\tNo JIT: {no_jit_time:0.8f} seconds\")\n",
    "print(f\"\\t   JIT: {first_time:0.8f} seconds\")"
   ]
  },
  {
   "cell_type": "markdown",
   "metadata": {},
   "source": [
    "# Automatic Vectorization"
   ]
  },
  {
   "cell_type": "code",
   "execution_count": null,
   "metadata": {},
   "outputs": [],
   "source": []
  },
  {
   "cell_type": "markdown",
   "metadata": {},
   "source": [
    "# Automatic Differentiation"
   ]
  },
  {
   "cell_type": "code",
   "execution_count": null,
   "metadata": {},
   "outputs": [],
   "source": []
  }
 ],
 "metadata": {
  "kernelspec": {
   "display_name": ".venv",
   "language": "python",
   "name": "python3"
  },
  "language_info": {
   "codemirror_mode": {
    "name": "ipython",
    "version": 3
   },
   "file_extension": ".py",
   "mimetype": "text/x-python",
   "name": "python",
   "nbconvert_exporter": "python",
   "pygments_lexer": "ipython3",
   "version": "3.12.8"
  }
 },
 "nbformat": 4,
 "nbformat_minor": 2
}
