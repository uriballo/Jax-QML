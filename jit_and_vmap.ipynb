{
 "cells": [
  {
   "cell_type": "code",
   "execution_count": 1,
   "metadata": {},
   "outputs": [],
   "source": [
    "import numpy as np\n",
    "import jax \n",
    "from jax import jit\n",
    "from jax import numpy as jnp\n",
    "import pennylane as qml\n",
    "import time\n",
    "\n",
    "jax.config.update(\"jax_enable_x64\", True)\n",
    "key = jax.random.PRNGKey(42)"
   ]
  },
  {
   "cell_type": "code",
   "execution_count": 2,
   "metadata": {},
   "outputs": [],
   "source": [
    "n_qubits = 16\n",
    "dev = qml.device(\"default.qubit\", wires=n_qubits) # For some reason, lightning.qubit makes JIT much worse but the NO-JIT version faster.\n",
    "\n",
    "@qml.qnode(dev) # If jax version is > 0.4.28, VMAP won't work if the interface is not specified as \"jax-jit\" due using `jax.core.ConcreteArray` which is deprecated.\n",
    "def circuit(param):\n",
    "    for idx in range(n_qubits):\n",
    "        qml.RX(param, wires=idx)\n",
    "\n",
    "    for idx in range(n_qubits-1):\n",
    "        qml.CNOT(wires=[idx, idx+1])\n",
    "\n",
    "    qml.CNOT(wires=[n_qubits-1, 0])\n",
    "\n",
    "    return qml.expval(qml.PauliZ(0))"
   ]
  },
  {
   "cell_type": "markdown",
   "metadata": {},
   "source": [
    "# Just-in-Time Compilation"
   ]
  },
  {
   "cell_type": "code",
   "execution_count": 3,
   "metadata": {},
   "outputs": [],
   "source": [
    "jit_circuit = jax.jit(circuit)\n",
    "batch_params = jax.random.uniform(key, shape=(100,))"
   ]
  },
  {
   "cell_type": "code",
   "execution_count": 4,
   "metadata": {},
   "outputs": [],
   "source": [
    "start = time.time()\n",
    "for param in batch_params:\n",
    "    circuit(param)\n",
    "no_jit_time = time.time() - start"
   ]
  },
  {
   "cell_type": "code",
   "execution_count": 5,
   "metadata": {},
   "outputs": [],
   "source": [
    "start = time.time()\n",
    "for param in batch_params:\n",
    "    jit_circuit(param)\n",
    "first_time = time.time() - start"
   ]
  },
  {
   "cell_type": "code",
   "execution_count": 6,
   "metadata": {},
   "outputs": [
    {
     "name": "stdout",
     "output_type": "stream",
     "text": [
      "Time to do 100 executions:\n",
      "\tNo JIT: 4.01821589 seconds\n",
      "\t   JIT: 0.34297895 seconds\n"
     ]
    }
   ],
   "source": [
    "print(\"Time to do 100 executions:\")\n",
    "print(f\"\\tNo JIT: {no_jit_time:0.8f} seconds\")\n",
    "print(f\"\\t   JIT: {first_time:0.8f} seconds\")"
   ]
  },
  {
   "cell_type": "markdown",
   "metadata": {},
   "source": [
    "# Automatic Vectorization"
   ]
  },
  {
   "cell_type": "code",
   "execution_count": 7,
   "metadata": {},
   "outputs": [],
   "source": [
    "vcircuit = jax.vmap(circuit)\n",
    "vcircuit_jit = jax.vmap(jit_circuit)"
   ]
  },
  {
   "cell_type": "code",
   "execution_count": 8,
   "metadata": {},
   "outputs": [],
   "source": [
    "batch_params = jax.random.uniform(key, shape=(1000,))"
   ]
  },
  {
   "cell_type": "code",
   "execution_count": 9,
   "metadata": {},
   "outputs": [],
   "source": [
    "start = time.time()\n",
    "for param in batch_params:\n",
    "    circuit(param)\n",
    "no_vjit_time = time.time() - start"
   ]
  },
  {
   "cell_type": "code",
   "execution_count": 10,
   "metadata": {},
   "outputs": [],
   "source": [
    "start = time.time()\n",
    "batched_results = vcircuit(batch_params)\n",
    "vmap_time = time.time() - start"
   ]
  },
  {
   "cell_type": "code",
   "execution_count": 11,
   "metadata": {},
   "outputs": [],
   "source": [
    "start = time.time()\n",
    "batched_jit_results = vcircuit_jit(batch_params)\n",
    "vjit_time = time.time() - start"
   ]
  },
  {
   "cell_type": "code",
   "execution_count": 12,
   "metadata": {},
   "outputs": [
    {
     "name": "stdout",
     "output_type": "stream",
     "text": [
      "Time to do 1000 executions:\n",
      "\tNo JIT, No VMAP: 17.40339684 seconds\n",
      "\t           VMAP: 5.89912891 seconds\n",
      "\t   VMAP and JIT: 0.16277909 seconds\n"
     ]
    }
   ],
   "source": [
    "print(\"Time to do 1000 executions:\")\n",
    "print(f\"\\tNo JIT, No VMAP: {no_vjit_time:0.8f} seconds\")\n",
    "print(f\"\\t           VMAP: {vmap_time:0.8f} seconds\")\n",
    "print(f\"\\t   VMAP and JIT: {vjit_time:0.8f} seconds\")"
   ]
  }
 ],
 "metadata": {
  "kernelspec": {
   "display_name": ".venv",
   "language": "python",
   "name": "python3"
  },
  "language_info": {
   "codemirror_mode": {
    "name": "ipython",
    "version": 3
   },
   "file_extension": ".py",
   "mimetype": "text/x-python",
   "name": "python",
   "nbconvert_exporter": "python",
   "pygments_lexer": "ipython3",
   "version": "3.12.8"
  }
 },
 "nbformat": 4,
 "nbformat_minor": 2
}
