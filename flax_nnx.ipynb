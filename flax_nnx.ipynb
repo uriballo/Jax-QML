{
 "cells": [
  {
   "cell_type": "code",
   "execution_count": 54,
   "metadata": {},
   "outputs": [],
   "source": [
    "from flax import nnx\n",
    "import jax\n",
    "import jax.numpy as jnp\n",
    "import pennylane as qml"
   ]
  },
  {
   "cell_type": "code",
   "execution_count": 55,
   "metadata": {},
   "outputs": [],
   "source": [
    "N_QUBITS = 10\n",
    "N_LAYERS = 6\n",
    "BATCH_SIZE = 16\n",
    "LEARNING_RATE = 1e-4"
   ]
  },
  {
   "cell_type": "code",
   "execution_count": 56,
   "metadata": {},
   "outputs": [],
   "source": [
    "def make_circuit(dev, n_qubits, n_layers):\n",
    "    @qml.qnode(dev)\n",
    "    def circuit(x, circuit_weights):\n",
    "        # data encoding\n",
    "        for i in range(n_qubits):\n",
    "            qml.Hadamard(wires=i)\n",
    "            qml.RY(x[i], wires=i)\n",
    "            \n",
    "        # trainable unitary\n",
    "        for layer in range(n_layers):\n",
    "            for i in range(n_qubits):\n",
    "                qml.RY(circuit_weights[layer, i, 0], wires=i)  \n",
    "                qml.RZ(circuit_weights[layer, i, 1], wires=i) \n",
    "                qml.RX(circuit_weights[layer, i, 2], wires=i)  \n",
    "\n",
    "            for idx in range(n_qubits-1):\n",
    "                qml.CNOT(wires=[idx, idx+1])\n",
    "            qml.CNOT(wires=[n_qubits-1, 0])\n",
    "\n",
    "        return [qml.expval(qml.PauliZ(wires=i)) for i in range(n_qubits)]\n",
    "\n",
    "    return jax.vmap(circuit, in_axes=(0, None)) # We return the vectorized circuit and indicate that the batch is in the first dimension.\n"
   ]
  },
  {
   "cell_type": "code",
   "execution_count": 57,
   "metadata": {},
   "outputs": [],
   "source": [
    "class QuantumCircuit(nnx.Module):\n",
    "  def __init__(self, num_qubits, num_layers, device, rngs = nnx.Rngs(42)):\n",
    "    key = rngs.params()\n",
    "\n",
    "    weight_shapes = (num_layers, num_qubits, 3)\n",
    "    self.weights = jnp.array([\n",
    "        nnx.Param(jax.random.uniform(key, shape=weight_shapes).astype(jnp.float32))\n",
    "    ])\n",
    "    self.circuit = make_circuit(device, num_qubits, num_layers)\n",
    "\n",
    "  def __call__(self, x: jax.Array):\n",
    "    return self.circuit(x, self.weights)"
   ]
  },
  {
   "cell_type": "code",
   "execution_count": 58,
   "metadata": {},
   "outputs": [],
   "source": [
    "dev = qml.device('default.qubit', wires=N_QUBITS)\n",
    "qc = QuantumCircuit(N_QUBITS, N_LAYERS, dev)"
   ]
  },
  {
   "cell_type": "code",
   "execution_count": 60,
   "metadata": {},
   "outputs": [
    {
     "data": {
      "text/plain": [
       "[Array([[-0.03767726, -0.02900788, -0.0329062 ],\n",
       "        [-0.03767726, -0.02900788, -0.0329062 ],\n",
       "        [-0.03767726, -0.02900788, -0.0329062 ],\n",
       "        [-0.03767726, -0.02900788, -0.0329062 ]], dtype=float32),\n",
       " Array([[ 0.02241525, -0.0077256 , -0.01964784],\n",
       "        [ 0.02241525, -0.0077256 , -0.01964784],\n",
       "        [ 0.02241525, -0.0077256 , -0.01964784],\n",
       "        [ 0.02241525, -0.0077256 , -0.01964784]], dtype=float32),\n",
       " Array([[-0.0238865 ,  0.01320735,  0.01969719],\n",
       "        [-0.0238865 ,  0.01320735,  0.01969719],\n",
       "        [-0.0238865 ,  0.01320735,  0.01969719],\n",
       "        [-0.0238865 ,  0.01320735,  0.01969719]], dtype=float32),\n",
       " Array([[ 0.0151712 , -0.06157526, -0.01836556],\n",
       "        [ 0.0151712 , -0.06157526, -0.01836556],\n",
       "        [ 0.0151712 , -0.06157526, -0.01836556],\n",
       "        [ 0.0151712 , -0.06157526, -0.01836556]], dtype=float32),\n",
       " Array([[ 0.00035176,  0.00778925, -0.02163187],\n",
       "        [ 0.00035176,  0.00778925, -0.02163187],\n",
       "        [ 0.00035176,  0.00778925, -0.02163187],\n",
       "        [ 0.00035176,  0.00778925, -0.02163187]], dtype=float32),\n",
       " Array([[ 0.02594426,  0.00127947, -0.01465809],\n",
       "        [ 0.02594426,  0.00127947, -0.01465809],\n",
       "        [ 0.02594426,  0.00127947, -0.01465809],\n",
       "        [ 0.02594426,  0.00127947, -0.01465809]], dtype=float32),\n",
       " Array([[-0.0450289 , -0.02395701,  0.01779673],\n",
       "        [-0.0450289 , -0.02395701,  0.01779673],\n",
       "        [-0.0450289 , -0.02395701,  0.01779673],\n",
       "        [-0.0450289 , -0.02395701,  0.01779673]], dtype=float32),\n",
       " Array([[ 0.03686452, -0.01506159,  0.02043888],\n",
       "        [ 0.03686452, -0.01506159,  0.02043888],\n",
       "        [ 0.03686452, -0.01506159,  0.02043888],\n",
       "        [ 0.03686452, -0.01506159,  0.02043888]], dtype=float32),\n",
       " Array([[ 0.01527762,  0.03210199, -0.00368315],\n",
       "        [ 0.01527762,  0.03210199, -0.00368315],\n",
       "        [ 0.01527762,  0.03210199, -0.00368315],\n",
       "        [ 0.01527762,  0.03210199, -0.00368315]], dtype=float32),\n",
       " Array([[ 0.02859166,  0.02686307, -0.04790318],\n",
       "        [ 0.02859166,  0.02686307, -0.04790318],\n",
       "        [ 0.02859166,  0.02686307, -0.04790318],\n",
       "        [ 0.02859166,  0.02686307, -0.04790318]], dtype=float32)]"
      ]
     },
     "execution_count": 60,
     "metadata": {},
     "output_type": "execute_result"
    }
   ],
   "source": [
    "qc(jnp.empty((4, 10)))"
   ]
  }
 ],
 "metadata": {
  "kernelspec": {
   "display_name": ".venv",
   "language": "python",
   "name": "python3"
  },
  "language_info": {
   "codemirror_mode": {
    "name": "ipython",
    "version": 3
   },
   "file_extension": ".py",
   "mimetype": "text/x-python",
   "name": "python",
   "nbconvert_exporter": "python",
   "pygments_lexer": "ipython3",
   "version": "3.12.8"
  }
 },
 "nbformat": 4,
 "nbformat_minor": 2
}
